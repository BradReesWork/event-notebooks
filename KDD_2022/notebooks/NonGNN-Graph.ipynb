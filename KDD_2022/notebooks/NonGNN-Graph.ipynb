{
 "cells": [
  {
   "cell_type": "markdown",
   "metadata": {},
   "source": [
    "#  Fraud Detection use XGBoost with Graph Features\n",
    "\n",
    "This notebook will demonstate using cuDF for ETL/data cleaning and XGBoost for training a fraud predection model.  \n",
    "The processing will not use an additional graph processing or GNNs"
   ]
  },
  {
   "cell_type": "code",
   "execution_count": 1,
   "metadata": {},
   "outputs": [],
   "source": [
    "# Since we are adding graph, need to import cuGraph\n",
    "import cugraph"
   ]
  },
  {
   "cell_type": "code",
   "execution_count": 2,
   "metadata": {},
   "outputs": [
    {
     "name": "stderr",
     "output_type": "stream",
     "text": [
      "/home/brad/anaconda3/envs/cugraph_dev/lib/python3.9/site-packages/xgboost/compat.py:36: FutureWarning: pandas.Int64Index is deprecated and will be removed from pandas in a future version. Use pandas.Index with the appropriate dtype instead.\n",
      "  from pandas import MultiIndex, Int64Index\n"
     ]
    }
   ],
   "source": [
    "# requiered imports\n",
    "import cudf\n",
    "import cuml\n",
    "import xgboost as xgb\n",
    "import math"
   ]
  },
  {
   "cell_type": "markdown",
   "metadata": {},
   "source": [
    "## Let's only look at the Graph part for now - the rest will be similar to what we have already done"
   ]
  },
  {
   "cell_type": "code",
   "execution_count": 3,
   "metadata": {},
   "outputs": [],
   "source": [
    "# base directoty\n",
    "base_dir = \"./elliptic_bitcoin_dataset/\""
   ]
  },
  {
   "cell_type": "code",
   "execution_count": 4,
   "metadata": {},
   "outputs": [],
   "source": [
    "df_edges = cudf.read_csv(base_dir + \"elliptic_txs_edgelist.csv\")"
   ]
  },
  {
   "cell_type": "code",
   "execution_count": 5,
   "metadata": {},
   "outputs": [
    {
     "data": {
      "text/html": [
       "<div>\n",
       "<style scoped>\n",
       "    .dataframe tbody tr th:only-of-type {\n",
       "        vertical-align: middle;\n",
       "    }\n",
       "\n",
       "    .dataframe tbody tr th {\n",
       "        vertical-align: top;\n",
       "    }\n",
       "\n",
       "    .dataframe thead th {\n",
       "        text-align: right;\n",
       "    }\n",
       "</style>\n",
       "<table border=\"1\" class=\"dataframe\">\n",
       "  <thead>\n",
       "    <tr style=\"text-align: right;\">\n",
       "      <th></th>\n",
       "      <th>txId1</th>\n",
       "      <th>txId2</th>\n",
       "    </tr>\n",
       "  </thead>\n",
       "  <tbody>\n",
       "    <tr>\n",
       "      <th>0</th>\n",
       "      <td>230425980</td>\n",
       "      <td>5530458</td>\n",
       "    </tr>\n",
       "    <tr>\n",
       "      <th>1</th>\n",
       "      <td>232022460</td>\n",
       "      <td>232438397</td>\n",
       "    </tr>\n",
       "    <tr>\n",
       "      <th>2</th>\n",
       "      <td>230460314</td>\n",
       "      <td>230459870</td>\n",
       "    </tr>\n",
       "    <tr>\n",
       "      <th>3</th>\n",
       "      <td>230333930</td>\n",
       "      <td>230595899</td>\n",
       "    </tr>\n",
       "    <tr>\n",
       "      <th>4</th>\n",
       "      <td>232013274</td>\n",
       "      <td>232029206</td>\n",
       "    </tr>\n",
       "  </tbody>\n",
       "</table>\n",
       "</div>"
      ],
      "text/plain": [
       "       txId1      txId2\n",
       "0  230425980    5530458\n",
       "1  232022460  232438397\n",
       "2  230460314  230459870\n",
       "3  230333930  230595899\n",
       "4  232013274  232029206"
      ]
     },
     "execution_count": 5,
     "metadata": {},
     "output_type": "execute_result"
    }
   ],
   "source": [
    "df_edges.head(5)"
   ]
  },
  {
   "cell_type": "code",
   "execution_count": 6,
   "metadata": {},
   "outputs": [
    {
     "data": {
      "text/plain": [
       "(1076, 1076)"
      ]
     },
     "execution_count": 6,
     "metadata": {},
     "output_type": "execute_result"
    }
   ],
   "source": [
    "# does the data start at 0?\n",
    "(df_edges['txId1'].min(), df_edges['txId2'].min())"
   ]
  },
  {
   "cell_type": "markdown",
   "metadata": {},
   "source": [
    "no - that means that we need to use the renumbering feature of cuGraph to create\n",
    "a contiguous sequence"
   ]
  },
  {
   "cell_type": "code",
   "execution_count": 7,
   "metadata": {},
   "outputs": [],
   "source": [
    "G = cugraph.Graph(directed=False)"
   ]
  },
  {
   "cell_type": "code",
   "execution_count": 8,
   "metadata": {},
   "outputs": [],
   "source": [
    "G.from_cudf_edgelist(df_edges, source='txId1', destination='txId2', renumber=True)"
   ]
  },
  {
   "cell_type": "code",
   "execution_count": 9,
   "metadata": {},
   "outputs": [
    {
     "name": "stdout",
     "output_type": "stream",
     "text": [
      "number of nodes: 203769\n",
      "number of edges: 234355\n"
     ]
    }
   ],
   "source": [
    "print(f\"number of nodes: {G.number_of_nodes()}\")\n",
    "print(f\"number of edges: {G.number_of_edges()}\")"
   ]
  },
  {
   "cell_type": "code",
   "execution_count": 10,
   "metadata": {},
   "outputs": [],
   "source": [
    "# that is a very odd graph\n",
    "# let's look at degree centrality"
   ]
  },
  {
   "cell_type": "code",
   "execution_count": 11,
   "metadata": {},
   "outputs": [],
   "source": [
    "degree = G.degrees()"
   ]
  },
  {
   "cell_type": "code",
   "execution_count": 12,
   "metadata": {},
   "outputs": [
    {
     "data": {
      "text/html": [
       "<div>\n",
       "<style scoped>\n",
       "    .dataframe tbody tr th:only-of-type {\n",
       "        vertical-align: middle;\n",
       "    }\n",
       "\n",
       "    .dataframe tbody tr th {\n",
       "        vertical-align: top;\n",
       "    }\n",
       "\n",
       "    .dataframe thead th {\n",
       "        text-align: right;\n",
       "    }\n",
       "</style>\n",
       "<table border=\"1\" class=\"dataframe\">\n",
       "  <thead>\n",
       "    <tr style=\"text-align: right;\">\n",
       "      <th></th>\n",
       "      <th>in_degree</th>\n",
       "      <th>out_degree</th>\n",
       "      <th>vertex</th>\n",
       "    </tr>\n",
       "  </thead>\n",
       "  <tbody>\n",
       "    <tr>\n",
       "      <th>0</th>\n",
       "      <td>10</td>\n",
       "      <td>10</td>\n",
       "      <td>97309263</td>\n",
       "    </tr>\n",
       "    <tr>\n",
       "      <th>1</th>\n",
       "      <td>14</td>\n",
       "      <td>14</td>\n",
       "      <td>98486557</td>\n",
       "    </tr>\n",
       "    <tr>\n",
       "      <th>2</th>\n",
       "      <td>10</td>\n",
       "      <td>10</td>\n",
       "      <td>99218169</td>\n",
       "    </tr>\n",
       "    <tr>\n",
       "      <th>3</th>\n",
       "      <td>10</td>\n",
       "      <td>10</td>\n",
       "      <td>102343697</td>\n",
       "    </tr>\n",
       "    <tr>\n",
       "      <th>4</th>\n",
       "      <td>9</td>\n",
       "      <td>9</td>\n",
       "      <td>105431244</td>\n",
       "    </tr>\n",
       "  </tbody>\n",
       "</table>\n",
       "</div>"
      ],
      "text/plain": [
       "   in_degree  out_degree     vertex\n",
       "0         10          10   97309263\n",
       "1         14          14   98486557\n",
       "2         10          10   99218169\n",
       "3         10          10  102343697\n",
       "4          9           9  105431244"
      ]
     },
     "execution_count": 12,
     "metadata": {},
     "output_type": "execute_result"
    }
   ],
   "source": [
    "degree.head(5)"
   ]
  },
  {
   "cell_type": "code",
   "execution_count": 13,
   "metadata": {},
   "outputs": [
    {
     "data": {
      "text/html": [
       "<div>\n",
       "<style scoped>\n",
       "    .dataframe tbody tr th:only-of-type {\n",
       "        vertical-align: middle;\n",
       "    }\n",
       "\n",
       "    .dataframe tbody tr th {\n",
       "        vertical-align: top;\n",
       "    }\n",
       "\n",
       "    .dataframe thead th {\n",
       "        text-align: right;\n",
       "    }\n",
       "</style>\n",
       "<table border=\"1\" class=\"dataframe\">\n",
       "  <thead>\n",
       "    <tr style=\"text-align: right;\">\n",
       "      <th></th>\n",
       "      <th>in_degree</th>\n",
       "      <th>out_degree</th>\n",
       "      <th>vertex</th>\n",
       "    </tr>\n",
       "  </thead>\n",
       "  <tbody>\n",
       "    <tr>\n",
       "      <th>count</th>\n",
       "      <td>203769.000000</td>\n",
       "      <td>203769.000000</td>\n",
       "      <td>2.037690e+05</td>\n",
       "    </tr>\n",
       "    <tr>\n",
       "      <th>mean</th>\n",
       "      <td>2.300203</td>\n",
       "      <td>2.300203</td>\n",
       "      <td>1.711310e+08</td>\n",
       "    </tr>\n",
       "    <tr>\n",
       "      <th>std</th>\n",
       "      <td>4.328377</td>\n",
       "      <td>4.328377</td>\n",
       "      <td>1.104655e+08</td>\n",
       "    </tr>\n",
       "    <tr>\n",
       "      <th>min</th>\n",
       "      <td>1.000000</td>\n",
       "      <td>1.000000</td>\n",
       "      <td>1.076000e+03</td>\n",
       "    </tr>\n",
       "    <tr>\n",
       "      <th>25%</th>\n",
       "      <td>1.000000</td>\n",
       "      <td>1.000000</td>\n",
       "      <td>8.433452e+07</td>\n",
       "    </tr>\n",
       "    <tr>\n",
       "      <th>50%</th>\n",
       "      <td>2.000000</td>\n",
       "      <td>2.000000</td>\n",
       "      <td>1.624375e+08</td>\n",
       "    </tr>\n",
       "    <tr>\n",
       "      <th>75%</th>\n",
       "      <td>2.000000</td>\n",
       "      <td>2.000000</td>\n",
       "      <td>2.454798e+08</td>\n",
       "    </tr>\n",
       "    <tr>\n",
       "      <th>max</th>\n",
       "      <td>473.000000</td>\n",
       "      <td>473.000000</td>\n",
       "      <td>4.032446e+08</td>\n",
       "    </tr>\n",
       "  </tbody>\n",
       "</table>\n",
       "</div>"
      ],
      "text/plain": [
       "           in_degree     out_degree        vertex\n",
       "count  203769.000000  203769.000000  2.037690e+05\n",
       "mean        2.300203       2.300203  1.711310e+08\n",
       "std         4.328377       4.328377  1.104655e+08\n",
       "min         1.000000       1.000000  1.076000e+03\n",
       "25%         1.000000       1.000000  8.433452e+07\n",
       "50%         2.000000       2.000000  1.624375e+08\n",
       "75%         2.000000       2.000000  2.454798e+08\n",
       "max       473.000000     473.000000  4.032446e+08"
      ]
     },
     "execution_count": 13,
     "metadata": {},
     "output_type": "execute_result"
    }
   ],
   "source": [
    "degree.describe()"
   ]
  },
  {
   "cell_type": "code",
   "execution_count": 14,
   "metadata": {},
   "outputs": [],
   "source": [
    "# this is a good indication that there are disjoint subgraphs in the data"
   ]
  },
  {
   "cell_type": "code",
   "execution_count": 15,
   "metadata": {},
   "outputs": [],
   "source": [
    "comp = cugraph.weakly_connected_components(G)"
   ]
  },
  {
   "cell_type": "code",
   "execution_count": 16,
   "metadata": {},
   "outputs": [
    {
     "name": "stdout",
     "output_type": "stream",
     "text": [
      "Total number of components found :  49\n"
     ]
    }
   ],
   "source": [
    "# Use groupby on the 'labels' column of the WCC output to get the counts of each connected component with the same label\n",
    "label_count = comp.groupby('labels').count()\n",
    "label_count.rename(columns={\"vertex\": \"count\"}, inplace=True)\n",
    "\n",
    "print(\"Total number of components found : \", \"{:,}\".format(len(label_count)))"
   ]
  },
  {
   "cell_type": "code",
   "execution_count": 17,
   "metadata": {},
   "outputs": [],
   "source": [
    "# The fact that there are multiple components impact the creationg of metrics.  Many algorithm normalize results\n",
    "# based on the size of data, but for good metrics the size should be that of the component.  \n",
    "\n",
    "# let's ignore the fact thgat there are multiple components and not normalize"
   ]
  },
  {
   "cell_type": "code",
   "execution_count": 18,
   "metadata": {},
   "outputs": [],
   "source": [
    "bc = cugraph.betweenness_centrality(G, k=1000, normalized=False)"
   ]
  },
  {
   "cell_type": "code",
   "execution_count": 19,
   "metadata": {},
   "outputs": [],
   "source": [
    "pr = cugraph.pagerank(G)\n",
    "hits = cugraph.hits(G, normalized=False)\n",
    "katz = cugraph.katz_centrality(G, normalized=False)"
   ]
  },
  {
   "cell_type": "code",
   "execution_count": 20,
   "metadata": {},
   "outputs": [],
   "source": [
    "# merge all the data together"
   ]
  },
  {
   "cell_type": "code",
   "execution_count": 21,
   "metadata": {},
   "outputs": [],
   "source": [
    "graph_metrics = degree.merge(pr, on=\"vertex\")\n",
    "graph_metrics = graph_metrics.merge(bc ,on=\"vertex\")\n",
    "graph_metrics = graph_metrics.merge(hits ,on=\"vertex\")\n",
    "graph_metrics = graph_metrics.merge(katz ,on=\"vertex\")\n"
   ]
  },
  {
   "cell_type": "code",
   "execution_count": 22,
   "metadata": {},
   "outputs": [],
   "source": [
    "# Now rename \"vertex\" to be \"txId\"\n",
    "graph_metrics.rename(columns={'vertex' : 'txId'}, inplace=True)"
   ]
  },
  {
   "cell_type": "code",
   "execution_count": null,
   "metadata": {},
   "outputs": [],
   "source": []
  },
  {
   "cell_type": "markdown",
   "metadata": {},
   "source": [
    "### The XGBoost part"
   ]
  },
  {
   "cell_type": "markdown",
   "metadata": {},
   "source": [
    "### Data Loading"
   ]
  },
  {
   "cell_type": "code",
   "execution_count": null,
   "metadata": {},
   "outputs": [],
   "source": []
  },
  {
   "cell_type": "code",
   "execution_count": 23,
   "metadata": {},
   "outputs": [],
   "source": [
    "# read the data files\n",
    "df_features = cudf.read_csv(base_dir + 'elliptic_txs_features.csv', header=None)\n",
    "df_classes  = cudf.read_csv(base_dir + \"elliptic_txs_classes.csv\")"
   ]
  },
  {
   "cell_type": "code",
   "execution_count": 24,
   "metadata": {},
   "outputs": [],
   "source": [
    "# replace the value and set the type to int32\n",
    "df_classes['class'] = df_classes['class'].replace(\"unknown\", \"0\").astype('int32')"
   ]
  },
  {
   "cell_type": "markdown",
   "metadata": {},
   "source": [
    "### merge the classes into the feature dataset\n",
    "but we might need to adjust the dataframe some"
   ]
  },
  {
   "cell_type": "code",
   "execution_count": 25,
   "metadata": {},
   "outputs": [],
   "source": [
    "# change the column 0 name to be txId to match the classes dataframe\n",
    "df_features.rename(columns={'0' : 'txId'}, inplace=True)"
   ]
  },
  {
   "cell_type": "code",
   "execution_count": 26,
   "metadata": {},
   "outputs": [],
   "source": [
    "# merging dataframes\n",
    "df_merge = df_features.merge(df_classes, how='left', on='txId')"
   ]
  },
  {
   "cell_type": "code",
   "execution_count": 27,
   "metadata": {},
   "outputs": [],
   "source": [
    "# Now add  the graph features\n",
    "df_merge = df_merge.merge(graph_metrics, how='left', on='txId')"
   ]
  },
  {
   "cell_type": "markdown",
   "metadata": {},
   "source": [
    "### Pull out the labeled data into groups for training, validating, and testing"
   ]
  },
  {
   "cell_type": "code",
   "execution_count": 28,
   "metadata": {},
   "outputs": [],
   "source": [
    "classified   = df_merge.loc[df_merge['class'] != 0]\n",
    "unclassified = df_merge.loc[df_merge['class'] == 0]"
   ]
  },
  {
   "cell_type": "code",
   "execution_count": 29,
   "metadata": {},
   "outputs": [
    {
     "data": {
      "text/html": [
       "<div>\n",
       "<style scoped>\n",
       "    .dataframe tbody tr th:only-of-type {\n",
       "        vertical-align: middle;\n",
       "    }\n",
       "\n",
       "    .dataframe tbody tr th {\n",
       "        vertical-align: top;\n",
       "    }\n",
       "\n",
       "    .dataframe thead th {\n",
       "        text-align: right;\n",
       "    }\n",
       "</style>\n",
       "<table border=\"1\" class=\"dataframe\">\n",
       "  <thead>\n",
       "    <tr style=\"text-align: right;\">\n",
       "      <th></th>\n",
       "      <th>txId</th>\n",
       "      <th>1</th>\n",
       "      <th>2</th>\n",
       "      <th>3</th>\n",
       "      <th>4</th>\n",
       "      <th>5</th>\n",
       "      <th>6</th>\n",
       "      <th>7</th>\n",
       "      <th>8</th>\n",
       "      <th>9</th>\n",
       "      <th>...</th>\n",
       "      <th>165</th>\n",
       "      <th>166</th>\n",
       "      <th>class</th>\n",
       "      <th>in_degree</th>\n",
       "      <th>out_degree</th>\n",
       "      <th>pagerank</th>\n",
       "      <th>betweenness_centrality</th>\n",
       "      <th>hubs</th>\n",
       "      <th>authorities</th>\n",
       "      <th>katz_centrality</th>\n",
       "    </tr>\n",
       "  </thead>\n",
       "  <tbody>\n",
       "    <tr>\n",
       "      <th>1</th>\n",
       "      <td>121298347</td>\n",
       "      <td>6</td>\n",
       "      <td>0.136187</td>\n",
       "      <td>-0.184626</td>\n",
       "      <td>1.018602</td>\n",
       "      <td>-0.121970</td>\n",
       "      <td>-0.043875</td>\n",
       "      <td>-0.113002</td>\n",
       "      <td>-0.061584</td>\n",
       "      <td>0.152681</td>\n",
       "      <td>...</td>\n",
       "      <td>-1.760926</td>\n",
       "      <td>-1.760984</td>\n",
       "      <td>2</td>\n",
       "      <td>1</td>\n",
       "      <td>1</td>\n",
       "      <td>0.000003</td>\n",
       "      <td>0.00</td>\n",
       "      <td>3.339366e-58</td>\n",
       "      <td>5.292198e-58</td>\n",
       "      <td>0.002212</td>\n",
       "    </tr>\n",
       "    <tr>\n",
       "      <th>3</th>\n",
       "      <td>121655492</td>\n",
       "      <td>6</td>\n",
       "      <td>-0.172834</td>\n",
       "      <td>-0.184668</td>\n",
       "      <td>-1.201369</td>\n",
       "      <td>-0.121970</td>\n",
       "      <td>-0.043875</td>\n",
       "      <td>-0.113002</td>\n",
       "      <td>-0.061584</td>\n",
       "      <td>-0.163494</td>\n",
       "      <td>...</td>\n",
       "      <td>-0.120613</td>\n",
       "      <td>-0.119792</td>\n",
       "      <td>2</td>\n",
       "      <td>1</td>\n",
       "      <td>1</td>\n",
       "      <td>0.000002</td>\n",
       "      <td>0.00</td>\n",
       "      <td>3.181162e-52</td>\n",
       "      <td>4.012152e-52</td>\n",
       "      <td>0.002212</td>\n",
       "    </tr>\n",
       "    <tr>\n",
       "      <th>9</th>\n",
       "      <td>9676808</td>\n",
       "      <td>6</td>\n",
       "      <td>-0.006516</td>\n",
       "      <td>-0.132897</td>\n",
       "      <td>-1.201369</td>\n",
       "      <td>-0.121970</td>\n",
       "      <td>0.015676</td>\n",
       "      <td>-0.113002</td>\n",
       "      <td>-0.061584</td>\n",
       "      <td>0.006676</td>\n",
       "      <td>...</td>\n",
       "      <td>-0.865922</td>\n",
       "      <td>-0.776269</td>\n",
       "      <td>2</td>\n",
       "      <td>1</td>\n",
       "      <td>1</td>\n",
       "      <td>0.000003</td>\n",
       "      <td>0.00</td>\n",
       "      <td>4.101941e-57</td>\n",
       "      <td>6.545955e-57</td>\n",
       "      <td>0.002212</td>\n",
       "    </tr>\n",
       "    <tr>\n",
       "      <th>13</th>\n",
       "      <td>8986809</td>\n",
       "      <td>6</td>\n",
       "      <td>-0.155460</td>\n",
       "      <td>-0.184668</td>\n",
       "      <td>-1.201369</td>\n",
       "      <td>0.103143</td>\n",
       "      <td>-0.063725</td>\n",
       "      <td>0.138585</td>\n",
       "      <td>-0.061584</td>\n",
       "      <td>-0.160758</td>\n",
       "      <td>...</td>\n",
       "      <td>-0.120613</td>\n",
       "      <td>-0.119792</td>\n",
       "      <td>2</td>\n",
       "      <td>1</td>\n",
       "      <td>1</td>\n",
       "      <td>0.000003</td>\n",
       "      <td>0.00</td>\n",
       "      <td>3.190602e-62</td>\n",
       "      <td>6.581474e-62</td>\n",
       "      <td>0.002212</td>\n",
       "    </tr>\n",
       "    <tr>\n",
       "      <th>28</th>\n",
       "      <td>121298641</td>\n",
       "      <td>6</td>\n",
       "      <td>0.069303</td>\n",
       "      <td>-0.184626</td>\n",
       "      <td>1.018602</td>\n",
       "      <td>-0.121970</td>\n",
       "      <td>-0.043875</td>\n",
       "      <td>-0.113002</td>\n",
       "      <td>-0.061584</td>\n",
       "      <td>0.084249</td>\n",
       "      <td>...</td>\n",
       "      <td>1.519700</td>\n",
       "      <td>1.521399</td>\n",
       "      <td>2</td>\n",
       "      <td>2</td>\n",
       "      <td>2</td>\n",
       "      <td>0.000004</td>\n",
       "      <td>91696.05</td>\n",
       "      <td>6.415145e-55</td>\n",
       "      <td>1.035925e-54</td>\n",
       "      <td>0.002215</td>\n",
       "    </tr>\n",
       "  </tbody>\n",
       "</table>\n",
       "<p>5 rows × 175 columns</p>\n",
       "</div>"
      ],
      "text/plain": [
       "         txId  1         2         3         4         5         6         7  \\\n",
       "1   121298347  6  0.136187 -0.184626  1.018602 -0.121970 -0.043875 -0.113002   \n",
       "3   121655492  6 -0.172834 -0.184668 -1.201369 -0.121970 -0.043875 -0.113002   \n",
       "9     9676808  6 -0.006516 -0.132897 -1.201369 -0.121970  0.015676 -0.113002   \n",
       "13    8986809  6 -0.155460 -0.184668 -1.201369  0.103143 -0.063725  0.138585   \n",
       "28  121298641  6  0.069303 -0.184626  1.018602 -0.121970 -0.043875 -0.113002   \n",
       "\n",
       "           8         9  ...       165       166  class  in_degree  out_degree  \\\n",
       "1  -0.061584  0.152681  ... -1.760926 -1.760984      2          1           1   \n",
       "3  -0.061584 -0.163494  ... -0.120613 -0.119792      2          1           1   \n",
       "9  -0.061584  0.006676  ... -0.865922 -0.776269      2          1           1   \n",
       "13 -0.061584 -0.160758  ... -0.120613 -0.119792      2          1           1   \n",
       "28 -0.061584  0.084249  ...  1.519700  1.521399      2          2           2   \n",
       "\n",
       "    pagerank  betweenness_centrality          hubs   authorities  \\\n",
       "1   0.000003                    0.00  3.339366e-58  5.292198e-58   \n",
       "3   0.000002                    0.00  3.181162e-52  4.012152e-52   \n",
       "9   0.000003                    0.00  4.101941e-57  6.545955e-57   \n",
       "13  0.000003                    0.00  3.190602e-62  6.581474e-62   \n",
       "28  0.000004                91696.05  6.415145e-55  1.035925e-54   \n",
       "\n",
       "    katz_centrality  \n",
       "1          0.002212  \n",
       "3          0.002212  \n",
       "9          0.002212  \n",
       "13         0.002212  \n",
       "28         0.002215  \n",
       "\n",
       "[5 rows x 175 columns]"
      ]
     },
     "execution_count": 29,
     "metadata": {},
     "output_type": "execute_result"
    }
   ],
   "source": [
    "classified.head(5)"
   ]
  },
  {
   "cell_type": "code",
   "execution_count": 30,
   "metadata": {},
   "outputs": [],
   "source": [
    "# reset the index \n",
    "classified.reset_index(inplace=True, drop=True)"
   ]
  },
  {
   "cell_type": "code",
   "execution_count": 31,
   "metadata": {},
   "outputs": [
    {
     "data": {
      "text/html": [
       "<div>\n",
       "<style scoped>\n",
       "    .dataframe tbody tr th:only-of-type {\n",
       "        vertical-align: middle;\n",
       "    }\n",
       "\n",
       "    .dataframe tbody tr th {\n",
       "        vertical-align: top;\n",
       "    }\n",
       "\n",
       "    .dataframe thead th {\n",
       "        text-align: right;\n",
       "    }\n",
       "</style>\n",
       "<table border=\"1\" class=\"dataframe\">\n",
       "  <thead>\n",
       "    <tr style=\"text-align: right;\">\n",
       "      <th></th>\n",
       "      <th>txId</th>\n",
       "      <th>1</th>\n",
       "      <th>2</th>\n",
       "      <th>3</th>\n",
       "      <th>4</th>\n",
       "      <th>5</th>\n",
       "      <th>6</th>\n",
       "      <th>7</th>\n",
       "      <th>8</th>\n",
       "      <th>9</th>\n",
       "      <th>...</th>\n",
       "      <th>165</th>\n",
       "      <th>166</th>\n",
       "      <th>class</th>\n",
       "      <th>in_degree</th>\n",
       "      <th>out_degree</th>\n",
       "      <th>pagerank</th>\n",
       "      <th>betweenness_centrality</th>\n",
       "      <th>hubs</th>\n",
       "      <th>authorities</th>\n",
       "      <th>katz_centrality</th>\n",
       "    </tr>\n",
       "  </thead>\n",
       "  <tbody>\n",
       "    <tr>\n",
       "      <th>0</th>\n",
       "      <td>121298347</td>\n",
       "      <td>6</td>\n",
       "      <td>0.136187</td>\n",
       "      <td>-0.184626</td>\n",
       "      <td>1.018602</td>\n",
       "      <td>-0.121970</td>\n",
       "      <td>-0.043875</td>\n",
       "      <td>-0.113002</td>\n",
       "      <td>-0.061584</td>\n",
       "      <td>0.152681</td>\n",
       "      <td>...</td>\n",
       "      <td>-1.760926</td>\n",
       "      <td>-1.760984</td>\n",
       "      <td>2</td>\n",
       "      <td>1</td>\n",
       "      <td>1</td>\n",
       "      <td>0.000003</td>\n",
       "      <td>0.00</td>\n",
       "      <td>3.339366e-58</td>\n",
       "      <td>5.292198e-58</td>\n",
       "      <td>0.002212</td>\n",
       "    </tr>\n",
       "    <tr>\n",
       "      <th>1</th>\n",
       "      <td>121655492</td>\n",
       "      <td>6</td>\n",
       "      <td>-0.172834</td>\n",
       "      <td>-0.184668</td>\n",
       "      <td>-1.201369</td>\n",
       "      <td>-0.121970</td>\n",
       "      <td>-0.043875</td>\n",
       "      <td>-0.113002</td>\n",
       "      <td>-0.061584</td>\n",
       "      <td>-0.163494</td>\n",
       "      <td>...</td>\n",
       "      <td>-0.120613</td>\n",
       "      <td>-0.119792</td>\n",
       "      <td>2</td>\n",
       "      <td>1</td>\n",
       "      <td>1</td>\n",
       "      <td>0.000002</td>\n",
       "      <td>0.00</td>\n",
       "      <td>3.181162e-52</td>\n",
       "      <td>4.012152e-52</td>\n",
       "      <td>0.002212</td>\n",
       "    </tr>\n",
       "    <tr>\n",
       "      <th>2</th>\n",
       "      <td>9676808</td>\n",
       "      <td>6</td>\n",
       "      <td>-0.006516</td>\n",
       "      <td>-0.132897</td>\n",
       "      <td>-1.201369</td>\n",
       "      <td>-0.121970</td>\n",
       "      <td>0.015676</td>\n",
       "      <td>-0.113002</td>\n",
       "      <td>-0.061584</td>\n",
       "      <td>0.006676</td>\n",
       "      <td>...</td>\n",
       "      <td>-0.865922</td>\n",
       "      <td>-0.776269</td>\n",
       "      <td>2</td>\n",
       "      <td>1</td>\n",
       "      <td>1</td>\n",
       "      <td>0.000003</td>\n",
       "      <td>0.00</td>\n",
       "      <td>4.101941e-57</td>\n",
       "      <td>6.545955e-57</td>\n",
       "      <td>0.002212</td>\n",
       "    </tr>\n",
       "    <tr>\n",
       "      <th>3</th>\n",
       "      <td>8986809</td>\n",
       "      <td>6</td>\n",
       "      <td>-0.155460</td>\n",
       "      <td>-0.184668</td>\n",
       "      <td>-1.201369</td>\n",
       "      <td>0.103143</td>\n",
       "      <td>-0.063725</td>\n",
       "      <td>0.138585</td>\n",
       "      <td>-0.061584</td>\n",
       "      <td>-0.160758</td>\n",
       "      <td>...</td>\n",
       "      <td>-0.120613</td>\n",
       "      <td>-0.119792</td>\n",
       "      <td>2</td>\n",
       "      <td>1</td>\n",
       "      <td>1</td>\n",
       "      <td>0.000003</td>\n",
       "      <td>0.00</td>\n",
       "      <td>3.190602e-62</td>\n",
       "      <td>6.581474e-62</td>\n",
       "      <td>0.002212</td>\n",
       "    </tr>\n",
       "    <tr>\n",
       "      <th>4</th>\n",
       "      <td>121298641</td>\n",
       "      <td>6</td>\n",
       "      <td>0.069303</td>\n",
       "      <td>-0.184626</td>\n",
       "      <td>1.018602</td>\n",
       "      <td>-0.121970</td>\n",
       "      <td>-0.043875</td>\n",
       "      <td>-0.113002</td>\n",
       "      <td>-0.061584</td>\n",
       "      <td>0.084249</td>\n",
       "      <td>...</td>\n",
       "      <td>1.519700</td>\n",
       "      <td>1.521399</td>\n",
       "      <td>2</td>\n",
       "      <td>2</td>\n",
       "      <td>2</td>\n",
       "      <td>0.000004</td>\n",
       "      <td>91696.05</td>\n",
       "      <td>6.415145e-55</td>\n",
       "      <td>1.035925e-54</td>\n",
       "      <td>0.002215</td>\n",
       "    </tr>\n",
       "  </tbody>\n",
       "</table>\n",
       "<p>5 rows × 175 columns</p>\n",
       "</div>"
      ],
      "text/plain": [
       "        txId  1         2         3         4         5         6         7  \\\n",
       "0  121298347  6  0.136187 -0.184626  1.018602 -0.121970 -0.043875 -0.113002   \n",
       "1  121655492  6 -0.172834 -0.184668 -1.201369 -0.121970 -0.043875 -0.113002   \n",
       "2    9676808  6 -0.006516 -0.132897 -1.201369 -0.121970  0.015676 -0.113002   \n",
       "3    8986809  6 -0.155460 -0.184668 -1.201369  0.103143 -0.063725  0.138585   \n",
       "4  121298641  6  0.069303 -0.184626  1.018602 -0.121970 -0.043875 -0.113002   \n",
       "\n",
       "          8         9  ...       165       166  class  in_degree  out_degree  \\\n",
       "0 -0.061584  0.152681  ... -1.760926 -1.760984      2          1           1   \n",
       "1 -0.061584 -0.163494  ... -0.120613 -0.119792      2          1           1   \n",
       "2 -0.061584  0.006676  ... -0.865922 -0.776269      2          1           1   \n",
       "3 -0.061584 -0.160758  ... -0.120613 -0.119792      2          1           1   \n",
       "4 -0.061584  0.084249  ...  1.519700  1.521399      2          2           2   \n",
       "\n",
       "   pagerank  betweenness_centrality          hubs   authorities  \\\n",
       "0  0.000003                    0.00  3.339366e-58  5.292198e-58   \n",
       "1  0.000002                    0.00  3.181162e-52  4.012152e-52   \n",
       "2  0.000003                    0.00  4.101941e-57  6.545955e-57   \n",
       "3  0.000003                    0.00  3.190602e-62  6.581474e-62   \n",
       "4  0.000004                91696.05  6.415145e-55  1.035925e-54   \n",
       "\n",
       "   katz_centrality  \n",
       "0         0.002212  \n",
       "1         0.002212  \n",
       "2         0.002212  \n",
       "3         0.002212  \n",
       "4         0.002215  \n",
       "\n",
       "[5 rows x 175 columns]"
      ]
     },
     "execution_count": 31,
     "metadata": {},
     "output_type": "execute_result"
    }
   ],
   "source": [
    "classified.head(5)"
   ]
  },
  {
   "cell_type": "markdown",
   "metadata": {},
   "source": [
    "### Split data into training and validation sets\n",
    "cuML has a nice function for doing this"
   ]
  },
  {
   "cell_type": "code",
   "execution_count": 32,
   "metadata": {},
   "outputs": [],
   "source": [
    "X_train, X_test = cuml.model_selection.train_test_split(classified, test_size=0.3, random_state=0)"
   ]
  },
  {
   "cell_type": "code",
   "execution_count": 33,
   "metadata": {},
   "outputs": [],
   "source": [
    "X_train.reset_index(inplace=True, drop=True)\n",
    "X_test.reset_index(inplace=True, drop=True)"
   ]
  },
  {
   "cell_type": "code",
   "execution_count": 34,
   "metadata": {},
   "outputs": [
    {
     "data": {
      "text/plain": [
       "2    29401\n",
       "1     3194\n",
       "Name: class, dtype: int32"
      ]
     },
     "execution_count": 34,
     "metadata": {},
     "output_type": "execute_result"
    }
   ],
   "source": [
    "X_train['class'].value_counts()"
   ]
  },
  {
   "cell_type": "code",
   "execution_count": 35,
   "metadata": {},
   "outputs": [
    {
     "data": {
      "text/plain": [
       "2    12618\n",
       "1     1351\n",
       "Name: class, dtype: int32"
      ]
     },
     "execution_count": 35,
     "metadata": {},
     "output_type": "execute_result"
    }
   ],
   "source": [
    "X_test['class'].value_counts()"
   ]
  },
  {
   "cell_type": "code",
   "execution_count": 36,
   "metadata": {},
   "outputs": [],
   "source": [
    "# Pull out the class column and then drop from th etraining set\n",
    "Y_train = X_train[['class']]\n",
    "X_train.drop(columns=['class'], inplace=True)"
   ]
  },
  {
   "cell_type": "code",
   "execution_count": 37,
   "metadata": {},
   "outputs": [],
   "source": [
    "Y_test = X_test[['class']]\n",
    "X_test.drop(columns=['class'], inplace=True)"
   ]
  },
  {
   "cell_type": "markdown",
   "metadata": {},
   "source": [
    "### Use XGBoost"
   ]
  },
  {
   "cell_type": "code",
   "execution_count": 38,
   "metadata": {},
   "outputs": [],
   "source": [
    "# Create a DMatrix\n",
    "dtrain = xgb.DMatrix(X_train, Y_train)"
   ]
  },
  {
   "cell_type": "code",
   "execution_count": 39,
   "metadata": {},
   "outputs": [],
   "source": [
    "# Train XGBoost\n",
    "params = {\n",
    "    'learning_rate'  : 0.3,\n",
    "    'max_depth'      : 8,\n",
    "    'objective'      : 'reg:squarederror',\n",
    "    'subsample'      : 0.6,\n",
    "    'gamma'          : 1,\n",
    "    'silent'         : True,\n",
    "    'verbose_eval'   : True,\n",
    "    'tree_method'    :'gpu_hist'\n",
    "}\n"
   ]
  },
  {
   "cell_type": "code",
   "execution_count": 40,
   "metadata": {},
   "outputs": [
    {
     "name": "stdout",
     "output_type": "stream",
     "text": [
      "[13:11:17] WARNING: /home/conda/feedstock_root/build_artifacts/xgboost-split_1645117836726/work/src/learner.cc:576: \n",
      "Parameters: { \"silent\", \"verbose_eval\" } might not be used.\n",
      "\n",
      "  This could be a false alarm, with some parameters getting used by language bindings but\n",
      "  then being mistakenly passed down to XGBoost core, or some parameter actually being used\n",
      "  but getting flagged wrongly here. Please open an issue if you find any such cases.\n",
      "\n",
      "\n"
     ]
    }
   ],
   "source": [
    "trained_model = xgb.train(params, dtrain)"
   ]
  },
  {
   "cell_type": "code",
   "execution_count": 41,
   "metadata": {},
   "outputs": [],
   "source": [
    "# test\n",
    "dtest = xgb.DMatrix(X_test, Y_test)"
   ]
  },
  {
   "cell_type": "code",
   "execution_count": 42,
   "metadata": {},
   "outputs": [],
   "source": [
    "Y_test['prediction'] = trained_model.predict(dtest)"
   ]
  },
  {
   "cell_type": "code",
   "execution_count": 43,
   "metadata": {},
   "outputs": [],
   "source": [
    "Y_test['squared_error'] = (Y_test['prediction'] - Y_test['class'])**2"
   ]
  },
  {
   "cell_type": "code",
   "execution_count": 44,
   "metadata": {},
   "outputs": [
    {
     "data": {
      "text/html": [
       "<div>\n",
       "<style scoped>\n",
       "    .dataframe tbody tr th:only-of-type {\n",
       "        vertical-align: middle;\n",
       "    }\n",
       "\n",
       "    .dataframe tbody tr th {\n",
       "        vertical-align: top;\n",
       "    }\n",
       "\n",
       "    .dataframe thead th {\n",
       "        text-align: right;\n",
       "    }\n",
       "</style>\n",
       "<table border=\"1\" class=\"dataframe\">\n",
       "  <thead>\n",
       "    <tr style=\"text-align: right;\">\n",
       "      <th></th>\n",
       "      <th>class</th>\n",
       "      <th>prediction</th>\n",
       "      <th>squared_error</th>\n",
       "    </tr>\n",
       "  </thead>\n",
       "  <tbody>\n",
       "    <tr>\n",
       "      <th>0</th>\n",
       "      <td>2</td>\n",
       "      <td>1.958971</td>\n",
       "      <td>0.001683</td>\n",
       "    </tr>\n",
       "    <tr>\n",
       "      <th>1</th>\n",
       "      <td>2</td>\n",
       "      <td>1.954335</td>\n",
       "      <td>0.002085</td>\n",
       "    </tr>\n",
       "    <tr>\n",
       "      <th>2</th>\n",
       "      <td>2</td>\n",
       "      <td>1.917087</td>\n",
       "      <td>0.006875</td>\n",
       "    </tr>\n",
       "    <tr>\n",
       "      <th>3</th>\n",
       "      <td>2</td>\n",
       "      <td>1.931744</td>\n",
       "      <td>0.004659</td>\n",
       "    </tr>\n",
       "    <tr>\n",
       "      <th>4</th>\n",
       "      <td>2</td>\n",
       "      <td>1.962319</td>\n",
       "      <td>0.001420</td>\n",
       "    </tr>\n",
       "  </tbody>\n",
       "</table>\n",
       "</div>"
      ],
      "text/plain": [
       "   class  prediction  squared_error\n",
       "0      2    1.958971       0.001683\n",
       "1      2    1.954335       0.002085\n",
       "2      2    1.917087       0.006875\n",
       "3      2    1.931744       0.004659\n",
       "4      2    1.962319       0.001420"
      ]
     },
     "execution_count": 44,
     "metadata": {},
     "output_type": "execute_result"
    }
   ],
   "source": [
    "Y_test.head()"
   ]
  },
  {
   "cell_type": "code",
   "execution_count": 45,
   "metadata": {},
   "outputs": [
    {
     "data": {
      "text/html": [
       "<div>\n",
       "<style scoped>\n",
       "    .dataframe tbody tr th:only-of-type {\n",
       "        vertical-align: middle;\n",
       "    }\n",
       "\n",
       "    .dataframe tbody tr th {\n",
       "        vertical-align: top;\n",
       "    }\n",
       "\n",
       "    .dataframe thead th {\n",
       "        text-align: right;\n",
       "    }\n",
       "</style>\n",
       "<table border=\"1\" class=\"dataframe\">\n",
       "  <thead>\n",
       "    <tr style=\"text-align: right;\">\n",
       "      <th></th>\n",
       "      <th>class</th>\n",
       "      <th>prediction</th>\n",
       "      <th>squared_error</th>\n",
       "    </tr>\n",
       "  </thead>\n",
       "  <tbody>\n",
       "    <tr>\n",
       "      <th>8</th>\n",
       "      <td>1</td>\n",
       "      <td>0.990539</td>\n",
       "      <td>0.000090</td>\n",
       "    </tr>\n",
       "    <tr>\n",
       "      <th>15</th>\n",
       "      <td>1</td>\n",
       "      <td>0.990539</td>\n",
       "      <td>0.000090</td>\n",
       "    </tr>\n",
       "    <tr>\n",
       "      <th>28</th>\n",
       "      <td>1</td>\n",
       "      <td>0.990539</td>\n",
       "      <td>0.000090</td>\n",
       "    </tr>\n",
       "    <tr>\n",
       "      <th>29</th>\n",
       "      <td>1</td>\n",
       "      <td>1.789822</td>\n",
       "      <td>0.623819</td>\n",
       "    </tr>\n",
       "    <tr>\n",
       "      <th>33</th>\n",
       "      <td>1</td>\n",
       "      <td>1.901209</td>\n",
       "      <td>0.812178</td>\n",
       "    </tr>\n",
       "  </tbody>\n",
       "</table>\n",
       "</div>"
      ],
      "text/plain": [
       "    class  prediction  squared_error\n",
       "8       1    0.990539       0.000090\n",
       "15      1    0.990539       0.000090\n",
       "28      1    0.990539       0.000090\n",
       "29      1    1.789822       0.623819\n",
       "33      1    1.901209       0.812178"
      ]
     },
     "execution_count": 45,
     "metadata": {},
     "output_type": "execute_result"
    }
   ],
   "source": [
    "Y_test[Y_test['class'] == 1].head()"
   ]
  },
  {
   "cell_type": "code",
   "execution_count": 46,
   "metadata": {},
   "outputs": [
    {
     "data": {
      "text/plain": [
       "0.1220505355291152"
      ]
     },
     "execution_count": 46,
     "metadata": {},
     "output_type": "execute_result"
    }
   ],
   "source": [
    "# compute the actual RMSE over the full test set\n",
    "RMSE = Y_test['squared_error'].mean()\n",
    "math.sqrt(RMSE)"
   ]
  },
  {
   "cell_type": "code",
   "execution_count": 47,
   "metadata": {},
   "outputs": [
    {
     "data": {
      "text/plain": [
       "2    12602\n",
       "1      191\n",
       "Name: class, dtype: int32"
      ]
     },
     "execution_count": 47,
     "metadata": {},
     "output_type": "execute_result"
    }
   ],
   "source": [
    "Y_test[Y_test['prediction'] > 1.5]['class'].value_counts()"
   ]
  },
  {
   "cell_type": "code",
   "execution_count": null,
   "metadata": {},
   "outputs": [],
   "source": []
  }
 ],
 "metadata": {
  "kernelspec": {
   "display_name": "cugraph_dev",
   "language": "python",
   "name": "cugraph_dev"
  },
  "language_info": {
   "codemirror_mode": {
    "name": "ipython",
    "version": 3
   },
   "file_extension": ".py",
   "mimetype": "text/x-python",
   "name": "python",
   "nbconvert_exporter": "python",
   "pygments_lexer": "ipython3",
   "version": "3.9.13"
  }
 },
 "nbformat": 4,
 "nbformat_minor": 4
}
