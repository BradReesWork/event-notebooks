{
 "cells": [
  {
   "cell_type": "markdown",
   "metadata": {},
   "source": [
    "# Graph Analysis using cuGraph\n",
    "### Exploring COVID-19 Data\n",
    "\n",
    "Author:  Brad Rees\n",
    "Date:    July 1st, 2022\n",
    "\n",
    "This material was created for presentation at SciPy '22 in Austin, TX.  July 13th - 15th, 2022\n",
    "\n",
    "\n",
    "Aguilar-Gallegos, Norman (2020), “Dataset on dynamics of Coronavirus on Twitter”, Mendeley Data, V1, doi: 10.17632/7ph4nx8hnc.1\n",
    "\n",
    "data:  https://data.mendeley.com/datasets/7ph4nx8hnc/1\n",
    "\n",
    "__Notice__:  I have no affiliation with the author. The dataset is just being used to illustrate graph analytics and not any derived insights from the data\n"
   ]
  },
  {
   "cell_type": "markdown",
   "metadata": {},
   "source": [
    "The data has already been downloaded, but could get obtained by\n",
    "wget https://md-datasets-cache-zipfiles-prod.s3.eu-west-1.amazonaws.com/7ph4nx8hnc-1.zip\n",
    "then `gunzip 7ph4nx8hnc-1.zip`"
   ]
  },
  {
   "cell_type": "code",
   "execution_count": 1,
   "metadata": {},
   "outputs": [],
   "source": [
    "import cudf\n",
    "import cugraph"
   ]
  },
  {
   "cell_type": "markdown",
   "metadata": {},
   "source": [
    "-----\n",
    "## Exploring the data\n",
    "Tweet Types:\n",
    "  *  1.Tw      Original Tweet\n",
    "  *  2.MT      Mentioned within Tweet\n",
    "  *  3.RT      Retweet\n",
    "  *  4.Re      Replies"
   ]
  },
  {
   "cell_type": "code",
   "execution_count": 2,
   "metadata": {},
   "outputs": [],
   "source": [
    "# Let's load the \"edges\" dataset\n",
    "gdf_tw_edges = cudf.read_csv(\"07a.Tw.edges.csv\")"
   ]
  },
  {
   "cell_type": "code",
   "execution_count": 3,
   "metadata": {},
   "outputs": [
    {
     "name": "stdout",
     "output_type": "stream",
     "text": [
      "7,296,841\n"
     ]
    }
   ],
   "source": [
    "# how much data\n",
    "print(\"{:,}\".format(len(gdf_tw_edges)))"
   ]
  },
  {
   "cell_type": "code",
   "execution_count": 4,
   "metadata": {},
   "outputs": [
    {
     "data": {
      "text/plain": [
       "3. RT    5570466\n",
       "4. Re    1025937\n",
       "2. MT     700438\n",
       "Name: Type, dtype: int32"
      ]
     },
     "execution_count": 4,
     "metadata": {},
     "output_type": "execute_result"
    }
   ],
   "source": [
    "# Count the number of different Tweet types\n",
    "gdf_tw_edges['Type'].value_counts()"
   ]
  },
  {
   "cell_type": "markdown",
   "metadata": {},
   "source": [
    "The difference in counts is due to how the data was created.  "
   ]
  },
  {
   "cell_type": "markdown",
   "metadata": {},
   "source": [
    "----\n",
    "# Build a Graph"
   ]
  },
  {
   "cell_type": "code",
   "execution_count": 5,
   "metadata": {},
   "outputs": [
    {
     "data": {
      "text/html": [
       "<div>\n",
       "<style scoped>\n",
       "    .dataframe tbody tr th:only-of-type {\n",
       "        vertical-align: middle;\n",
       "    }\n",
       "\n",
       "    .dataframe tbody tr th {\n",
       "        vertical-align: top;\n",
       "    }\n",
       "\n",
       "    .dataframe thead th {\n",
       "        text-align: right;\n",
       "    }\n",
       "</style>\n",
       "<table border=\"1\" class=\"dataframe\">\n",
       "  <thead>\n",
       "    <tr style=\"text-align: right;\">\n",
       "      <th></th>\n",
       "      <th>from</th>\n",
       "      <th>to</th>\n",
       "      <th>Type</th>\n",
       "      <th>status_id</th>\n",
       "      <th>width</th>\n",
       "    </tr>\n",
       "  </thead>\n",
       "  <tbody>\n",
       "    <tr>\n",
       "      <th>0</th>\n",
       "      <td>DrNancyM_CDC</td>\n",
       "      <td>CDCgov</td>\n",
       "      <td>2. MT</td>\n",
       "      <td>x1216747185565507585</td>\n",
       "      <td>1</td>\n",
       "    </tr>\n",
       "    <tr>\n",
       "      <th>1</th>\n",
       "      <td>WHO</td>\n",
       "      <td>WHOWPRO</td>\n",
       "      <td>4. Re</td>\n",
       "      <td>x1217027488137826304</td>\n",
       "      <td>1</td>\n",
       "    </tr>\n",
       "    <tr>\n",
       "      <th>2</th>\n",
       "      <td>CDCDirector</td>\n",
       "      <td>CDCgov</td>\n",
       "      <td>2. MT</td>\n",
       "      <td>x1217126105506820096</td>\n",
       "      <td>1</td>\n",
       "    </tr>\n",
       "    <tr>\n",
       "      <th>3</th>\n",
       "      <td>WHO</td>\n",
       "      <td>pr_moph</td>\n",
       "      <td>2. MT</td>\n",
       "      <td>x1217151178884222976</td>\n",
       "      <td>1</td>\n",
       "    </tr>\n",
       "    <tr>\n",
       "      <th>4</th>\n",
       "      <td>HelenBranswell</td>\n",
       "      <td>WHO</td>\n",
       "      <td>2. MT</td>\n",
       "      <td>x1217191264858206209</td>\n",
       "      <td>1</td>\n",
       "    </tr>\n",
       "  </tbody>\n",
       "</table>\n",
       "</div>"
      ],
      "text/plain": [
       "             from       to   Type             status_id  width\n",
       "0    DrNancyM_CDC   CDCgov  2. MT  x1216747185565507585      1\n",
       "1             WHO  WHOWPRO  4. Re  x1217027488137826304      1\n",
       "2     CDCDirector   CDCgov  2. MT  x1217126105506820096      1\n",
       "3             WHO  pr_moph  2. MT  x1217151178884222976      1\n",
       "4  HelenBranswell      WHO  2. MT  x1217191264858206209      1"
      ]
     },
     "execution_count": 5,
     "metadata": {},
     "output_type": "execute_result"
    }
   ],
   "source": [
    "# What does the data look like?\n",
    "gdf_tw_edges.head()"
   ]
  },
  {
   "cell_type": "markdown",
   "metadata": {},
   "source": [
    "Since the from (source) and to (destination) columns are strings, we will need to use the renumbering feature in cuGraph to convert the strings to integer values.   The nice part of the cuGraph renumbering feature is that it also converts the data back to the original string values in any output"
   ]
  },
  {
   "cell_type": "code",
   "execution_count": 6,
   "metadata": {},
   "outputs": [],
   "source": [
    "# Let's build an undirected graph\n",
    "G = cugraph.Graph(directed=False)\n",
    "G.from_cudf_edgelist(gdf_tw_edges, source='from', destination='to', renumber=True)"
   ]
  },
  {
   "cell_type": "code",
   "execution_count": 7,
   "metadata": {},
   "outputs": [
    {
     "data": {
      "text/plain": [
       "(2922882, 5894695)"
      ]
     },
     "execution_count": 7,
     "metadata": {},
     "output_type": "execute_result"
    }
   ],
   "source": [
    "(G.number_of_nodes(), G.number_of_edges())"
   ]
  },
  {
   "cell_type": "markdown",
   "metadata": {},
   "source": [
    "----\n",
    "Let's look at the degree of the nodes.   We can use:\n",
    "* degree              - total number of edges insident (connecected to) the vertex\n",
    "* degrees             - return both the in-degree and out-degree\n",
    "* degree_centrality   - same as 'degree'\n",
    "\n",
    "Since this is an undirected graph, `degree` would count each edge twice (once for in and once for out)"
   ]
  },
  {
   "cell_type": "code",
   "execution_count": 8,
   "metadata": {},
   "outputs": [],
   "source": [
    "degree = G.degrees()"
   ]
  },
  {
   "cell_type": "code",
   "execution_count": 9,
   "metadata": {},
   "outputs": [
    {
     "data": {
      "text/html": [
       "<div>\n",
       "<style scoped>\n",
       "    .dataframe tbody tr th:only-of-type {\n",
       "        vertical-align: middle;\n",
       "    }\n",
       "\n",
       "    .dataframe tbody tr th {\n",
       "        vertical-align: top;\n",
       "    }\n",
       "\n",
       "    .dataframe thead th {\n",
       "        text-align: right;\n",
       "    }\n",
       "</style>\n",
       "<table border=\"1\" class=\"dataframe\">\n",
       "  <thead>\n",
       "    <tr style=\"text-align: right;\">\n",
       "      <th></th>\n",
       "      <th>in_degree</th>\n",
       "      <th>out_degree</th>\n",
       "      <th>vertex</th>\n",
       "    </tr>\n",
       "  </thead>\n",
       "  <tbody>\n",
       "    <tr>\n",
       "      <th>2885879</th>\n",
       "      <td>56119</td>\n",
       "      <td>56119</td>\n",
       "      <td>OlaTinee</td>\n",
       "    </tr>\n",
       "    <tr>\n",
       "      <th>2674548</th>\n",
       "      <td>36534</td>\n",
       "      <td>36534</td>\n",
       "      <td>spectatorindex</td>\n",
       "    </tr>\n",
       "    <tr>\n",
       "      <th>11776</th>\n",
       "      <td>34876</td>\n",
       "      <td>34876</td>\n",
       "      <td>WHO</td>\n",
       "    </tr>\n",
       "    <tr>\n",
       "      <th>2828921</th>\n",
       "      <td>30196</td>\n",
       "      <td>30196</td>\n",
       "      <td>realDonaldTrump</td>\n",
       "    </tr>\n",
       "    <tr>\n",
       "      <th>24779</th>\n",
       "      <td>26421</td>\n",
       "      <td>26421</td>\n",
       "      <td>howroute</td>\n",
       "    </tr>\n",
       "  </tbody>\n",
       "</table>\n",
       "</div>"
      ],
      "text/plain": [
       "         in_degree  out_degree           vertex\n",
       "2885879      56119       56119         OlaTinee\n",
       "2674548      36534       36534   spectatorindex\n",
       "11776        34876       34876              WHO\n",
       "2828921      30196       30196  realDonaldTrump\n",
       "24779        26421       26421         howroute"
      ]
     },
     "execution_count": 9,
     "metadata": {},
     "output_type": "execute_result"
    }
   ],
   "source": [
    "degree.sort_values(by='out_degree', ascending=False).head(5)"
   ]
  },
  {
   "cell_type": "markdown",
   "metadata": {},
   "source": [
    "Wow, there are some very popular nodes!"
   ]
  },
  {
   "cell_type": "code",
   "execution_count": 10,
   "metadata": {},
   "outputs": [
    {
     "data": {
      "text/plain": [
       "count    2,922,882.00\n",
       "mean             4.03\n",
       "std             85.08\n",
       "min              1.00\n",
       "25%              1.00\n",
       "50%              1.00\n",
       "75%              2.00\n",
       "max         56,119.00\n",
       "Name: out_degree, dtype: object"
      ]
     },
     "execution_count": 10,
     "metadata": {},
     "output_type": "execute_result"
    }
   ],
   "source": [
    "degree['out_degree'].describe().to_pandas().apply(\"{:,.2f}\".format)"
   ]
  },
  {
   "cell_type": "markdown",
   "metadata": {},
   "source": [
    "75% of nodes have a degree of 2 or less!"
   ]
  },
  {
   "cell_type": "code",
   "execution_count": 11,
   "metadata": {},
   "outputs": [],
   "source": [
    "del degree"
   ]
  },
  {
   "cell_type": "markdown",
   "metadata": {},
   "source": [
    "-----\n",
    "Let's see how many subgraph (components) there could be.\n",
    "We use the Weakly Connected Component (WCC) algorithm "
   ]
  },
  {
   "cell_type": "code",
   "execution_count": 12,
   "metadata": {},
   "outputs": [],
   "source": [
    "comp = cugraph.weakly_connected_components(G)"
   ]
  },
  {
   "cell_type": "code",
   "execution_count": 13,
   "metadata": {},
   "outputs": [
    {
     "name": "stdout",
     "output_type": "stream",
     "text": [
      "Total number of components found :  107,493\n"
     ]
    }
   ],
   "source": [
    "# Use groupby on the 'labels' column of the WCC output to get the counts of each connected component with the same label\n",
    "label_count = comp.groupby('labels').count()\n",
    "label_count.rename(columns={\"vertex\": \"count\"}, inplace=True)\n",
    "\n",
    "print(\"Total number of components found : \", \"{:,}\".format(len(label_count)))"
   ]
  },
  {
   "cell_type": "code",
   "execution_count": 14,
   "metadata": {},
   "outputs": [
    {
     "data": {
      "text/plain": [
       "81883"
      ]
     },
     "execution_count": 14,
     "metadata": {},
     "output_type": "execute_result"
    }
   ],
   "source": [
    "# How many components have only two nodes?\n",
    "len(label_count[label_count['count'] == 2])"
   ]
  },
  {
   "cell_type": "code",
   "execution_count": 15,
   "metadata": {},
   "outputs": [
    {
     "data": {
      "text/html": [
       "<div>\n",
       "<style scoped>\n",
       "    .dataframe tbody tr th:only-of-type {\n",
       "        vertical-align: middle;\n",
       "    }\n",
       "\n",
       "    .dataframe tbody tr th {\n",
       "        vertical-align: top;\n",
       "    }\n",
       "\n",
       "    .dataframe thead th {\n",
       "        text-align: right;\n",
       "    }\n",
       "</style>\n",
       "<table border=\"1\" class=\"dataframe\">\n",
       "  <thead>\n",
       "    <tr style=\"text-align: right;\">\n",
       "      <th></th>\n",
       "      <th>count</th>\n",
       "    </tr>\n",
       "    <tr>\n",
       "      <th>labels</th>\n",
       "      <th></th>\n",
       "    </tr>\n",
       "  </thead>\n",
       "  <tbody>\n",
       "    <tr>\n",
       "      <th>1731182</th>\n",
       "      <td>2668807</td>\n",
       "    </tr>\n",
       "    <tr>\n",
       "      <th>2085265</th>\n",
       "      <td>83</td>\n",
       "    </tr>\n",
       "    <tr>\n",
       "      <th>1167083</th>\n",
       "      <td>69</td>\n",
       "    </tr>\n",
       "    <tr>\n",
       "      <th>2916221</th>\n",
       "      <td>51</td>\n",
       "    </tr>\n",
       "    <tr>\n",
       "      <th>2660936</th>\n",
       "      <td>49</td>\n",
       "    </tr>\n",
       "  </tbody>\n",
       "</table>\n",
       "</div>"
      ],
      "text/plain": [
       "           count\n",
       "labels          \n",
       "1731182  2668807\n",
       "2085265       83\n",
       "1167083       69\n",
       "2916221       51\n",
       "2660936       49"
      ]
     },
     "execution_count": 15,
     "metadata": {},
     "output_type": "execute_result"
    }
   ],
   "source": [
    "# what are the largest components?\n",
    "label_count.sort_values(by='count', ascending=False).head()"
   ]
  },
  {
   "cell_type": "markdown",
   "metadata": {},
   "source": [
    "-----\n",
    "# Let's only look at the big component"
   ]
  },
  {
   "cell_type": "code",
   "execution_count": 16,
   "metadata": {},
   "outputs": [],
   "source": [
    "# Get the label ID for the largest component\n",
    "max_comp = label_count['count'].max()\n",
    "big_comp_id = label_count[label_count['count'] == max_comp].index[0]"
   ]
  },
  {
   "cell_type": "code",
   "execution_count": 17,
   "metadata": {},
   "outputs": [],
   "source": [
    "# now need to get the vertex IDs associated with those good components\n",
    "big_comp = comp[comp['labels'] == big_comp_id]"
   ]
  },
  {
   "cell_type": "code",
   "execution_count": 18,
   "metadata": {},
   "outputs": [],
   "source": [
    "# Now get the subgraph that just contains those nodes in large compoents\n",
    "subgraph = cugraph.subgraph(G, big_comp['vertex'])"
   ]
  },
  {
   "cell_type": "code",
   "execution_count": 19,
   "metadata": {},
   "outputs": [
    {
     "data": {
      "text/plain": [
       "(2668807, 5741055)"
      ]
     },
     "execution_count": 19,
     "metadata": {},
     "output_type": "execute_result"
    }
   ],
   "source": [
    "(subgraph.number_of_nodes(), subgraph.number_of_edges())"
   ]
  },
  {
   "cell_type": "markdown",
   "metadata": {},
   "source": [
    "-----\n"
   ]
  },
  {
   "cell_type": "code",
   "execution_count": 20,
   "metadata": {},
   "outputs": [],
   "source": [
    "#import graphistry"
   ]
  },
  {
   "cell_type": "code",
   "execution_count": 21,
   "metadata": {},
   "outputs": [],
   "source": [
    "#graphistry.register(api=3, protocol=\"https\", server=\"hub.graphistry.com\", username=xxxxx, password=xxxxx)  "
   ]
  },
  {
   "cell_type": "code",
   "execution_count": 22,
   "metadata": {},
   "outputs": [],
   "source": [
    "#graphistry.edges(subgraph.edges(), 'src', 'dst').plot()"
   ]
  },
  {
   "cell_type": "markdown",
   "metadata": {},
   "source": [
    "-----\n",
    "# Who is important?\n",
    "Centrality is the measure of how important, or cenbtral, a node is which in the graph\n",
    "__Note__: always set 'k' value Betweenness Centrality "
   ]
  },
  {
   "cell_type": "code",
   "execution_count": 23,
   "metadata": {},
   "outputs": [],
   "source": [
    "# Compute Centrality\n",
    "# the centrality calls are very straight forward with the graph being the primary argument\n",
    "# we are using the default argument values for all centrality functions\n",
    "def compute_centrality(_graph) :\n",
    "    # Compute Degree Centrality\n",
    "    _d = cugraph.degree_centrality(_graph)\n",
    "        \n",
    "    # Compute the Betweenness Centrality\n",
    "    _b = cugraph.betweenness_centrality(_graph, 100)\n",
    "\n",
    "    # Compute Katz Centrality\n",
    "    _k = cugraph.katz_centrality(_graph)\n",
    "    \n",
    "    # Compute PageRank Centrality\n",
    "    _p = cugraph.pagerank(_graph,tol=0.0001)\n",
    "    \n",
    "    # Compute Eigenvector Centrality\n",
    "    _e = cugraph.eigenvector_centrality(_graph, tol=0.0001)\n",
    "    \n",
    "    return (_d, _b, _k, _p, _e)"
   ]
  },
  {
   "cell_type": "code",
   "execution_count": 24,
   "metadata": {},
   "outputs": [],
   "source": [
    "# Print function\n",
    "# The input is the tuple from the `compute_centrality` function\n",
    "from IPython.display import display_html \n",
    "def print_centrality(_C, _n):\n",
    "    dc_top = _C[0].sort_values(by='degree_centrality', ascending=False).head(_n).to_pandas()\n",
    "    bc_top = _C[1].sort_values(by='betweenness_centrality', ascending=False).head(_n).to_pandas()\n",
    "    katz_top = _C[2].sort_values(by='katz_centrality', ascending=False).head(_n).to_pandas()\n",
    "    pr_top = _C[3].sort_values(by='pagerank', ascending=False).head(_n).to_pandas()\n",
    "    ec_top = _C[4].sort_values(by='eigenvector_centrality', ascending=False).head(_n).to_pandas()\n",
    "    \n",
    "    df1_styler = dc_top.style.set_table_attributes(\"style='display:inline'\").set_caption('Degree').hide(axis='index')\n",
    "    df2_styler = bc_top.style.set_table_attributes(\"style='display:inline'\").set_caption('Betweenness').hide(axis='index')\n",
    "    df3_styler = katz_top.style.set_table_attributes(\"style='display:inline'\").set_caption('Katz').hide(axis='index')\n",
    "    df4_styler = pr_top.style.set_table_attributes(\"style='display:inline'\").set_caption('PageRank').hide(axis='index')\n",
    "    df5_styler = ec_top.style.set_table_attributes(\"style='display:inline'\").set_caption('Eigenvector').hide(axis='index')\n",
    "\n",
    "    display_html(df1_styler._repr_html_()+\n",
    "                 df2_styler._repr_html_()+\n",
    "                 df3_styler._repr_html_()+\n",
    "                 df4_styler._repr_html_()+\n",
    "                 df5_styler._repr_html_(), \n",
    "                 raw=True)"
   ]
  },
  {
   "cell_type": "code",
   "execution_count": 25,
   "metadata": {},
   "outputs": [],
   "source": [
    "C = compute_centrality(subgraph)"
   ]
  },
  {
   "cell_type": "code",
   "execution_count": 26,
   "metadata": {},
   "outputs": [
    {
     "data": {
      "text/html": [
       "<style type=\"text/css\">\n",
       "</style>\n",
       "<table id=\"T_46852\" style='display:inline'>\n",
       "  <caption>Degree</caption>\n",
       "  <thead>\n",
       "    <tr>\n",
       "      <th id=\"T_46852_level0_col0\" class=\"col_heading level0 col0\" >degree_centrality</th>\n",
       "      <th id=\"T_46852_level0_col1\" class=\"col_heading level0 col1\" >vertex</th>\n",
       "    </tr>\n",
       "  </thead>\n",
       "  <tbody>\n",
       "    <tr>\n",
       "      <td id=\"T_46852_row0_col0\" class=\"data row0 col0\" >0.042056</td>\n",
       "      <td id=\"T_46852_row0_col1\" class=\"data row0 col1\" >OlaTinee</td>\n",
       "    </tr>\n",
       "    <tr>\n",
       "      <td id=\"T_46852_row1_col0\" class=\"data row1 col0\" >0.027379</td>\n",
       "      <td id=\"T_46852_row1_col1\" class=\"data row1 col1\" >spectatorindex</td>\n",
       "    </tr>\n",
       "    <tr>\n",
       "      <td id=\"T_46852_row2_col0\" class=\"data row2 col0\" >0.026136</td>\n",
       "      <td id=\"T_46852_row2_col1\" class=\"data row2 col1\" >WHO</td>\n",
       "    </tr>\n",
       "    <tr>\n",
       "      <td id=\"T_46852_row3_col0\" class=\"data row3 col0\" >0.022629</td>\n",
       "      <td id=\"T_46852_row3_col1\" class=\"data row3 col1\" >realDonaldTrump</td>\n",
       "    </tr>\n",
       "    <tr>\n",
       "      <td id=\"T_46852_row4_col0\" class=\"data row4 col0\" >0.019800</td>\n",
       "      <td id=\"T_46852_row4_col1\" class=\"data row4 col1\" >howroute</td>\n",
       "    </tr>\n",
       "  </tbody>\n",
       "</table>\n",
       "<style type=\"text/css\">\n",
       "</style>\n",
       "<table id=\"T_c9a02\" style='display:inline'>\n",
       "  <caption>Betweenness</caption>\n",
       "  <thead>\n",
       "    <tr>\n",
       "      <th id=\"T_c9a02_level0_col0\" class=\"col_heading level0 col0\" >betweenness_centrality</th>\n",
       "      <th id=\"T_c9a02_level0_col1\" class=\"col_heading level0 col1\" >vertex</th>\n",
       "    </tr>\n",
       "  </thead>\n",
       "  <tbody>\n",
       "    <tr>\n",
       "      <td id=\"T_c9a02_row0_col0\" class=\"data row0 col0\" >0.105148</td>\n",
       "      <td id=\"T_c9a02_row0_col1\" class=\"data row0 col1\" >OlaTinee</td>\n",
       "    </tr>\n",
       "    <tr>\n",
       "      <td id=\"T_c9a02_row1_col0\" class=\"data row1 col0\" >0.099841</td>\n",
       "      <td id=\"T_c9a02_row1_col1\" class=\"data row1 col1\" >WHO</td>\n",
       "    </tr>\n",
       "    <tr>\n",
       "      <td id=\"T_c9a02_row2_col0\" class=\"data row2 col0\" >0.095573</td>\n",
       "      <td id=\"T_c9a02_row2_col1\" class=\"data row2 col1\" >generate_output</td>\n",
       "    </tr>\n",
       "    <tr>\n",
       "      <td id=\"T_c9a02_row3_col0\" class=\"data row3 col0\" >0.043395</td>\n",
       "      <td id=\"T_c9a02_row3_col1\" class=\"data row3 col1\" >spectatorindex</td>\n",
       "    </tr>\n",
       "    <tr>\n",
       "      <td id=\"T_c9a02_row4_col0\" class=\"data row4 col0\" >0.032213</td>\n",
       "      <td id=\"T_c9a02_row4_col1\" class=\"data row4 col1\" >YouTube</td>\n",
       "    </tr>\n",
       "  </tbody>\n",
       "</table>\n",
       "<style type=\"text/css\">\n",
       "</style>\n",
       "<table id=\"T_3c12b\" style='display:inline'>\n",
       "  <caption>Katz</caption>\n",
       "  <thead>\n",
       "    <tr>\n",
       "      <th id=\"T_3c12b_level0_col0\" class=\"col_heading level0 col0\" >katz_centrality</th>\n",
       "      <th id=\"T_3c12b_level0_col1\" class=\"col_heading level0 col1\" >vertex</th>\n",
       "    </tr>\n",
       "  </thead>\n",
       "  <tbody>\n",
       "    <tr>\n",
       "      <td id=\"T_3c12b_row0_col0\" class=\"data row0 col0\" >0.001224</td>\n",
       "      <td id=\"T_3c12b_row0_col1\" class=\"data row0 col1\" >OlaTinee</td>\n",
       "    </tr>\n",
       "    <tr>\n",
       "      <td id=\"T_3c12b_row1_col0\" class=\"data row1 col0\" >0.001011</td>\n",
       "      <td id=\"T_3c12b_row1_col1\" class=\"data row1 col1\" >spectatorindex</td>\n",
       "    </tr>\n",
       "    <tr>\n",
       "      <td id=\"T_3c12b_row2_col0\" class=\"data row2 col0\" >0.000993</td>\n",
       "      <td id=\"T_3c12b_row2_col1\" class=\"data row2 col1\" >WHO</td>\n",
       "    </tr>\n",
       "    <tr>\n",
       "      <td id=\"T_3c12b_row3_col0\" class=\"data row3 col0\" >0.000942</td>\n",
       "      <td id=\"T_3c12b_row3_col1\" class=\"data row3 col1\" >realDonaldTrump</td>\n",
       "    </tr>\n",
       "    <tr>\n",
       "      <td id=\"T_3c12b_row4_col0\" class=\"data row4 col0\" >0.000900</td>\n",
       "      <td id=\"T_3c12b_row4_col1\" class=\"data row4 col1\" >howroute</td>\n",
       "    </tr>\n",
       "  </tbody>\n",
       "</table>\n",
       "<style type=\"text/css\">\n",
       "</style>\n",
       "<table id=\"T_d0829\" style='display:inline'>\n",
       "  <caption>PageRank</caption>\n",
       "  <thead>\n",
       "    <tr>\n",
       "      <th id=\"T_d0829_level0_col0\" class=\"col_heading level0 col0\" >pagerank</th>\n",
       "      <th id=\"T_d0829_level0_col1\" class=\"col_heading level0 col1\" >vertex</th>\n",
       "    </tr>\n",
       "  </thead>\n",
       "  <tbody>\n",
       "    <tr>\n",
       "      <td id=\"T_d0829_row0_col0\" class=\"data row0 col0\" >0.006835</td>\n",
       "      <td id=\"T_d0829_row0_col1\" class=\"data row0 col1\" >OlaTinee</td>\n",
       "    </tr>\n",
       "    <tr>\n",
       "      <td id=\"T_d0829_row1_col0\" class=\"data row1 col0\" >0.003161</td>\n",
       "      <td id=\"T_d0829_row1_col1\" class=\"data row1 col1\" >spectatorindex</td>\n",
       "    </tr>\n",
       "    <tr>\n",
       "      <td id=\"T_d0829_row2_col0\" class=\"data row2 col0\" >0.002761</td>\n",
       "      <td id=\"T_d0829_row2_col1\" class=\"data row2 col1\" >vinistupido</td>\n",
       "    </tr>\n",
       "    <tr>\n",
       "      <td id=\"T_d0829_row3_col0\" class=\"data row3 col0\" >0.002161</td>\n",
       "      <td id=\"T_d0829_row3_col1\" class=\"data row3 col1\" >YouTube</td>\n",
       "    </tr>\n",
       "    <tr>\n",
       "      <td id=\"T_d0829_row4_col0\" class=\"data row4 col0\" >0.001999</td>\n",
       "      <td id=\"T_d0829_row4_col1\" class=\"data row4 col1\" >WHO</td>\n",
       "    </tr>\n",
       "  </tbody>\n",
       "</table>\n",
       "<style type=\"text/css\">\n",
       "</style>\n",
       "<table id=\"T_dc8bc\" style='display:inline'>\n",
       "  <caption>Eigenvector</caption>\n",
       "  <thead>\n",
       "    <tr>\n",
       "      <th id=\"T_dc8bc_level0_col0\" class=\"col_heading level0 col0\" >eigenvector_centrality</th>\n",
       "      <th id=\"T_dc8bc_level0_col1\" class=\"col_heading level0 col1\" >vertex</th>\n",
       "    </tr>\n",
       "  </thead>\n",
       "  <tbody>\n",
       "    <tr>\n",
       "      <td id=\"T_dc8bc_row0_col0\" class=\"data row0 col0\" >0.385401</td>\n",
       "      <td id=\"T_dc8bc_row0_col1\" class=\"data row0 col1\" >OlaTinee</td>\n",
       "    </tr>\n",
       "    <tr>\n",
       "      <td id=\"T_dc8bc_row1_col0\" class=\"data row1 col0\" >0.250899</td>\n",
       "      <td id=\"T_dc8bc_row1_col1\" class=\"data row1 col1\" >spectatorindex</td>\n",
       "    </tr>\n",
       "    <tr>\n",
       "      <td id=\"T_dc8bc_row2_col0\" class=\"data row2 col0\" >0.239513</td>\n",
       "      <td id=\"T_dc8bc_row2_col1\" class=\"data row2 col1\" >WHO</td>\n",
       "    </tr>\n",
       "    <tr>\n",
       "      <td id=\"T_dc8bc_row3_col0\" class=\"data row3 col0\" >0.207373</td>\n",
       "      <td id=\"T_dc8bc_row3_col1\" class=\"data row3 col1\" >realDonaldTrump</td>\n",
       "    </tr>\n",
       "    <tr>\n",
       "      <td id=\"T_dc8bc_row4_col0\" class=\"data row4 col0\" >0.181448</td>\n",
       "      <td id=\"T_dc8bc_row4_col1\" class=\"data row4 col1\" >howroute</td>\n",
       "    </tr>\n",
       "  </tbody>\n",
       "</table>\n"
      ]
     },
     "metadata": {},
     "output_type": "display_data"
    }
   ],
   "source": [
    "print_centrality(C, 5)"
   ]
  },
  {
   "cell_type": "markdown",
   "metadata": {},
   "source": [
    "The centrality numbers are very low, which could indicate that the graph needs to be further clustered"
   ]
  },
  {
   "cell_type": "markdown",
   "metadata": {},
   "source": [
    "-----\n",
    "# Community Detection\n",
    "Component != Community \n",
    "\n",
    "Let's run Louvain "
   ]
  },
  {
   "cell_type": "code",
   "execution_count": 27,
   "metadata": {},
   "outputs": [],
   "source": [
    "communities_df, mod_score = cugraph.louvain(subgraph)"
   ]
  },
  {
   "cell_type": "code",
   "execution_count": 28,
   "metadata": {},
   "outputs": [
    {
     "data": {
      "text/plain": [
       "0.7411910891532898"
      ]
     },
     "execution_count": 28,
     "metadata": {},
     "output_type": "execute_result"
    }
   ],
   "source": [
    "#  Do we have a good clustering?  Look at the modularity score\n",
    "mod_score"
   ]
  },
  {
   "cell_type": "code",
   "execution_count": 29,
   "metadata": {},
   "outputs": [
    {
     "name": "stdout",
     "output_type": "stream",
     "text": [
      "Louvain found 1618 communities\n"
     ]
    }
   ],
   "source": [
    "# How man communities were found?\n",
    "part_ids = communities_df[\"partition\"].unique()\n",
    "print(\"Louvain found \" + str(len(part_ids)) + \" communities\")"
   ]
  },
  {
   "cell_type": "code",
   "execution_count": 30,
   "metadata": {},
   "outputs": [],
   "source": [
    "community_count = communities_df.groupby('partition').count().rename(columns={\"vertex\": \"count\"})"
   ]
  },
  {
   "cell_type": "code",
   "execution_count": 31,
   "metadata": {},
   "outputs": [
    {
     "data": {
      "text/html": [
       "<div>\n",
       "<style scoped>\n",
       "    .dataframe tbody tr th:only-of-type {\n",
       "        vertical-align: middle;\n",
       "    }\n",
       "\n",
       "    .dataframe tbody tr th {\n",
       "        vertical-align: top;\n",
       "    }\n",
       "\n",
       "    .dataframe thead th {\n",
       "        text-align: right;\n",
       "    }\n",
       "</style>\n",
       "<table border=\"1\" class=\"dataframe\">\n",
       "  <thead>\n",
       "    <tr style=\"text-align: right;\">\n",
       "      <th></th>\n",
       "      <th>count</th>\n",
       "    </tr>\n",
       "    <tr>\n",
       "      <th>partition</th>\n",
       "      <th></th>\n",
       "    </tr>\n",
       "  </thead>\n",
       "  <tbody>\n",
       "    <tr>\n",
       "      <th>1271</th>\n",
       "      <td>309076</td>\n",
       "    </tr>\n",
       "    <tr>\n",
       "      <th>1607</th>\n",
       "      <td>205208</td>\n",
       "    </tr>\n",
       "    <tr>\n",
       "      <th>503</th>\n",
       "      <td>171562</td>\n",
       "    </tr>\n",
       "    <tr>\n",
       "      <th>633</th>\n",
       "      <td>167905</td>\n",
       "    </tr>\n",
       "    <tr>\n",
       "      <th>1390</th>\n",
       "      <td>150457</td>\n",
       "    </tr>\n",
       "    <tr>\n",
       "      <th>1478</th>\n",
       "      <td>133335</td>\n",
       "    </tr>\n",
       "    <tr>\n",
       "      <th>1489</th>\n",
       "      <td>129612</td>\n",
       "    </tr>\n",
       "    <tr>\n",
       "      <th>472</th>\n",
       "      <td>118715</td>\n",
       "    </tr>\n",
       "    <tr>\n",
       "      <th>367</th>\n",
       "      <td>114616</td>\n",
       "    </tr>\n",
       "    <tr>\n",
       "      <th>1076</th>\n",
       "      <td>111258</td>\n",
       "    </tr>\n",
       "  </tbody>\n",
       "</table>\n",
       "</div>"
      ],
      "text/plain": [
       "            count\n",
       "partition        \n",
       "1271       309076\n",
       "1607       205208\n",
       "503        171562\n",
       "633        167905\n",
       "1390       150457\n",
       "1478       133335\n",
       "1489       129612\n",
       "472        118715\n",
       "367        114616\n",
       "1076       111258"
      ]
     },
     "execution_count": 31,
     "metadata": {},
     "output_type": "execute_result"
    }
   ],
   "source": [
    "# what are the largest communities?\n",
    "sorted_community_counts = community_count.sort_values(by='count', ascending=False)\n",
    "sorted_community_counts.head(10)"
   ]
  },
  {
   "cell_type": "markdown",
   "metadata": {},
   "source": [
    "-----\n",
    "Keep diving deep and analze the largest community"
   ]
  },
  {
   "cell_type": "code",
   "execution_count": 32,
   "metadata": {},
   "outputs": [],
   "source": [
    "def extract_subgraph(idx, sorted_cc, graph):\n",
    "    _com_id = sorted_cc.index[idx]\n",
    "    _v = communities_df[communities_df['partition'] == _com_id]  \n",
    "    _s = cugraph.subgraph(graph, _v['vertex'])\n",
    "    return _s"
   ]
  },
  {
   "cell_type": "code",
   "execution_count": 33,
   "metadata": {},
   "outputs": [
    {
     "data": {
      "text/html": [
       "<style type=\"text/css\">\n",
       "</style>\n",
       "<table id=\"T_880e9\" style='display:inline'>\n",
       "  <caption>Degree</caption>\n",
       "  <thead>\n",
       "    <tr>\n",
       "      <th id=\"T_880e9_level0_col0\" class=\"col_heading level0 col0\" >degree_centrality</th>\n",
       "      <th id=\"T_880e9_level0_col1\" class=\"col_heading level0 col1\" >vertex</th>\n",
       "    </tr>\n",
       "  </thead>\n",
       "  <tbody>\n",
       "    <tr>\n",
       "      <td id=\"T_880e9_row0_col0\" class=\"data row0 col0\" >0.142458</td>\n",
       "      <td id=\"T_880e9_row0_col1\" class=\"data row0 col1\" >realDonaldTrump</td>\n",
       "    </tr>\n",
       "    <tr>\n",
       "      <td id=\"T_880e9_row1_col0\" class=\"data row1 col0\" >0.103723</td>\n",
       "      <td id=\"T_880e9_row1_col1\" class=\"data row1 col1\" >howroute</td>\n",
       "    </tr>\n",
       "    <tr>\n",
       "      <td id=\"T_880e9_row2_col0\" class=\"data row2 col0\" >0.078480</td>\n",
       "      <td id=\"T_880e9_row2_col1\" class=\"data row2 col1\" >RealJamesWoods</td>\n",
       "    </tr>\n",
       "    <tr>\n",
       "      <td id=\"T_880e9_row3_col0\" class=\"data row3 col0\" >0.062186</td>\n",
       "      <td id=\"T_880e9_row3_col1\" class=\"data row3 col1\" >IsChinar</td>\n",
       "    </tr>\n",
       "    <tr>\n",
       "      <td id=\"T_880e9_row4_col0\" class=\"data row4 col0\" >0.061765</td>\n",
       "      <td id=\"T_880e9_row4_col1\" class=\"data row4 col1\" >BNODesk</td>\n",
       "    </tr>\n",
       "  </tbody>\n",
       "</table>\n",
       "<style type=\"text/css\">\n",
       "</style>\n",
       "<table id=\"T_b5f8f\" style='display:inline'>\n",
       "  <caption>Betweenness</caption>\n",
       "  <thead>\n",
       "    <tr>\n",
       "      <th id=\"T_b5f8f_level0_col0\" class=\"col_heading level0 col0\" >betweenness_centrality</th>\n",
       "      <th id=\"T_b5f8f_level0_col1\" class=\"col_heading level0 col1\" >vertex</th>\n",
       "    </tr>\n",
       "  </thead>\n",
       "  <tbody>\n",
       "    <tr>\n",
       "      <td id=\"T_b5f8f_row0_col0\" class=\"data row0 col0\" >0.142623</td>\n",
       "      <td id=\"T_b5f8f_row0_col1\" class=\"data row0 col1\" >realDonaldTrump</td>\n",
       "    </tr>\n",
       "    <tr>\n",
       "      <td id=\"T_b5f8f_row1_col0\" class=\"data row1 col0\" >0.091157</td>\n",
       "      <td id=\"T_b5f8f_row1_col1\" class=\"data row1 col1\" >howroute</td>\n",
       "    </tr>\n",
       "    <tr>\n",
       "      <td id=\"T_b5f8f_row2_col0\" class=\"data row2 col0\" >0.055516</td>\n",
       "      <td id=\"T_b5f8f_row2_col1\" class=\"data row2 col1\" >IsChinar</td>\n",
       "    </tr>\n",
       "    <tr>\n",
       "      <td id=\"T_b5f8f_row3_col0\" class=\"data row3 col0\" >0.051839</td>\n",
       "      <td id=\"T_b5f8f_row3_col1\" class=\"data row3 col1\" >RealJamesWoods</td>\n",
       "    </tr>\n",
       "    <tr>\n",
       "      <td id=\"T_b5f8f_row4_col0\" class=\"data row4 col0\" >0.048460</td>\n",
       "      <td id=\"T_b5f8f_row4_col1\" class=\"data row4 col1\" >DarrenPlymouth</td>\n",
       "    </tr>\n",
       "  </tbody>\n",
       "</table>\n",
       "<style type=\"text/css\">\n",
       "</style>\n",
       "<table id=\"T_40a18\" style='display:inline'>\n",
       "  <caption>Katz</caption>\n",
       "  <thead>\n",
       "    <tr>\n",
       "      <th id=\"T_40a18_level0_col0\" class=\"col_heading level0 col0\" >katz_centrality</th>\n",
       "      <th id=\"T_40a18_level0_col1\" class=\"col_heading level0 col1\" >vertex</th>\n",
       "    </tr>\n",
       "  </thead>\n",
       "  <tbody>\n",
       "    <tr>\n",
       "      <td id=\"T_40a18_row0_col0\" class=\"data row0 col0\" >0.003597</td>\n",
       "      <td id=\"T_40a18_row0_col1\" class=\"data row0 col1\" >realDonaldTrump</td>\n",
       "    </tr>\n",
       "    <tr>\n",
       "      <td id=\"T_40a18_row1_col0\" class=\"data row1 col0\" >0.003108</td>\n",
       "      <td id=\"T_40a18_row1_col1\" class=\"data row1 col1\" >howroute</td>\n",
       "    </tr>\n",
       "    <tr>\n",
       "      <td id=\"T_40a18_row2_col0\" class=\"data row2 col0\" >0.002789</td>\n",
       "      <td id=\"T_40a18_row2_col1\" class=\"data row2 col1\" >RealJamesWoods</td>\n",
       "    </tr>\n",
       "    <tr>\n",
       "      <td id=\"T_40a18_row3_col0\" class=\"data row3 col0\" >0.002584</td>\n",
       "      <td id=\"T_40a18_row3_col1\" class=\"data row3 col1\" >IsChinar</td>\n",
       "    </tr>\n",
       "    <tr>\n",
       "      <td id=\"T_40a18_row4_col0\" class=\"data row4 col0\" >0.002579</td>\n",
       "      <td id=\"T_40a18_row4_col1\" class=\"data row4 col1\" >BNODesk</td>\n",
       "    </tr>\n",
       "  </tbody>\n",
       "</table>\n",
       "<style type=\"text/css\">\n",
       "</style>\n",
       "<table id=\"T_c7227\" style='display:inline'>\n",
       "  <caption>PageRank</caption>\n",
       "  <thead>\n",
       "    <tr>\n",
       "      <th id=\"T_c7227_level0_col0\" class=\"col_heading level0 col0\" >pagerank</th>\n",
       "      <th id=\"T_c7227_level0_col1\" class=\"col_heading level0 col1\" >vertex</th>\n",
       "    </tr>\n",
       "  </thead>\n",
       "  <tbody>\n",
       "    <tr>\n",
       "      <td id=\"T_c7227_row0_col0\" class=\"data row0 col0\" >0.012928</td>\n",
       "      <td id=\"T_c7227_row0_col1\" class=\"data row0 col1\" >realDonaldTrump</td>\n",
       "    </tr>\n",
       "    <tr>\n",
       "      <td id=\"T_c7227_row1_col0\" class=\"data row1 col0\" >0.009578</td>\n",
       "      <td id=\"T_c7227_row1_col1\" class=\"data row1 col1\" >howroute</td>\n",
       "    </tr>\n",
       "    <tr>\n",
       "      <td id=\"T_c7227_row2_col0\" class=\"data row2 col0\" >0.006905</td>\n",
       "      <td id=\"T_c7227_row2_col1\" class=\"data row2 col1\" >RealJamesWoods</td>\n",
       "    </tr>\n",
       "    <tr>\n",
       "      <td id=\"T_c7227_row3_col0\" class=\"data row3 col0\" >0.005073</td>\n",
       "      <td id=\"T_c7227_row3_col1\" class=\"data row3 col1\" >Education4Libs</td>\n",
       "    </tr>\n",
       "    <tr>\n",
       "      <td id=\"T_c7227_row4_col0\" class=\"data row4 col0\" >0.005004</td>\n",
       "      <td id=\"T_c7227_row4_col1\" class=\"data row4 col1\" >BNODesk</td>\n",
       "    </tr>\n",
       "  </tbody>\n",
       "</table>\n",
       "<style type=\"text/css\">\n",
       "</style>\n",
       "<table id=\"T_3ccdb\" style='display:inline'>\n",
       "  <caption>Eigenvector</caption>\n",
       "  <thead>\n",
       "    <tr>\n",
       "      <th id=\"T_3ccdb_level0_col0\" class=\"col_heading level0 col0\" >eigenvector_centrality</th>\n",
       "      <th id=\"T_3ccdb_level0_col1\" class=\"col_heading level0 col1\" >vertex</th>\n",
       "    </tr>\n",
       "  </thead>\n",
       "  <tbody>\n",
       "    <tr>\n",
       "      <td id=\"T_3ccdb_row0_col0\" class=\"data row0 col0\" >0.419529</td>\n",
       "      <td id=\"T_3ccdb_row0_col1\" class=\"data row0 col1\" >realDonaldTrump</td>\n",
       "    </tr>\n",
       "    <tr>\n",
       "      <td id=\"T_3ccdb_row1_col0\" class=\"data row1 col0\" >0.314915</td>\n",
       "      <td id=\"T_3ccdb_row1_col1\" class=\"data row1 col1\" >howroute</td>\n",
       "    </tr>\n",
       "    <tr>\n",
       "      <td id=\"T_3ccdb_row2_col0\" class=\"data row2 col0\" >0.209167</td>\n",
       "      <td id=\"T_3ccdb_row2_col1\" class=\"data row2 col1\" >IsChinar</td>\n",
       "    </tr>\n",
       "    <tr>\n",
       "      <td id=\"T_3ccdb_row3_col0\" class=\"data row3 col0\" >0.158311</td>\n",
       "      <td id=\"T_3ccdb_row3_col1\" class=\"data row3 col1\" >BNODesk</td>\n",
       "    </tr>\n",
       "    <tr>\n",
       "      <td id=\"T_3ccdb_row4_col0\" class=\"data row4 col0\" >0.154515</td>\n",
       "      <td id=\"T_3ccdb_row4_col1\" class=\"data row4 col1\" >jenniferatntd</td>\n",
       "    </tr>\n",
       "  </tbody>\n",
       "</table>\n"
      ]
     },
     "metadata": {},
     "output_type": "display_data"
    }
   ],
   "source": [
    "g0 = extract_subgraph(0, sorted_community_counts, subgraph)\n",
    "print_centrality(compute_centrality(g0), 5)"
   ]
  },
  {
   "cell_type": "code",
   "execution_count": 34,
   "metadata": {},
   "outputs": [
    {
     "data": {
      "text/html": [
       "<style type=\"text/css\">\n",
       "</style>\n",
       "<table id=\"T_7757e\" style='display:inline'>\n",
       "  <caption>Degree</caption>\n",
       "  <thead>\n",
       "    <tr>\n",
       "      <th id=\"T_7757e_level0_col0\" class=\"col_heading level0 col0\" >degree_centrality</th>\n",
       "      <th id=\"T_7757e_level0_col1\" class=\"col_heading level0 col1\" >vertex</th>\n",
       "    </tr>\n",
       "  </thead>\n",
       "  <tbody>\n",
       "    <tr>\n",
       "      <td id=\"T_7757e_row0_col0\" class=\"data row0 col0\" >0.097687</td>\n",
       "      <td id=\"T_7757e_row0_col1\" class=\"data row0 col1\" >CNNEE</td>\n",
       "    </tr>\n",
       "    <tr>\n",
       "      <td id=\"T_7757e_row1_col0\" class=\"data row1 col0\" >0.092443</td>\n",
       "      <td id=\"T_7757e_row1_col1\" class=\"data row1 col1\" >ActualidadRT</td>\n",
       "    </tr>\n",
       "    <tr>\n",
       "      <td id=\"T_7757e_row2_col0\" class=\"data row2 col0\" >0.070495</td>\n",
       "      <td id=\"T_7757e_row2_col1\" class=\"data row2 col1\" >AlertaNews24</td>\n",
       "    </tr>\n",
       "    <tr>\n",
       "      <td id=\"T_7757e_row3_col0\" class=\"data row3 col0\" >0.056294</td>\n",
       "      <td id=\"T_7757e_row3_col1\" class=\"data row3 col1\" >MaihenH</td>\n",
       "    </tr>\n",
       "    <tr>\n",
       "      <td id=\"T_7757e_row4_col0\" class=\"data row4 col0\" >0.047796</td>\n",
       "      <td id=\"T_7757e_row4_col1\" class=\"data row4 col1\" >dw_espanol</td>\n",
       "    </tr>\n",
       "  </tbody>\n",
       "</table>\n",
       "<style type=\"text/css\">\n",
       "</style>\n",
       "<table id=\"T_b4035\" style='display:inline'>\n",
       "  <caption>Betweenness</caption>\n",
       "  <thead>\n",
       "    <tr>\n",
       "      <th id=\"T_b4035_level0_col0\" class=\"col_heading level0 col0\" >betweenness_centrality</th>\n",
       "      <th id=\"T_b4035_level0_col1\" class=\"col_heading level0 col1\" >vertex</th>\n",
       "    </tr>\n",
       "  </thead>\n",
       "  <tbody>\n",
       "    <tr>\n",
       "      <td id=\"T_b4035_row0_col0\" class=\"data row0 col0\" >0.154718</td>\n",
       "      <td id=\"T_b4035_row0_col1\" class=\"data row0 col1\" >CNNEE</td>\n",
       "    </tr>\n",
       "    <tr>\n",
       "      <td id=\"T_b4035_row1_col0\" class=\"data row1 col0\" >0.137271</td>\n",
       "      <td id=\"T_b4035_row1_col1\" class=\"data row1 col1\" >ActualidadRT</td>\n",
       "    </tr>\n",
       "    <tr>\n",
       "      <td id=\"T_b4035_row2_col0\" class=\"data row2 col0\" >0.083529</td>\n",
       "      <td id=\"T_b4035_row2_col1\" class=\"data row2 col1\" >MaihenH</td>\n",
       "    </tr>\n",
       "    <tr>\n",
       "      <td id=\"T_b4035_row3_col0\" class=\"data row3 col0\" >0.062553</td>\n",
       "      <td id=\"T_b4035_row3_col1\" class=\"data row3 col1\" >AlertaNews24</td>\n",
       "    </tr>\n",
       "    <tr>\n",
       "      <td id=\"T_b4035_row4_col0\" class=\"data row4 col0\" >0.060180</td>\n",
       "      <td id=\"T_b4035_row4_col1\" class=\"data row4 col1\" >ChalecosAmarill</td>\n",
       "    </tr>\n",
       "  </tbody>\n",
       "</table>\n",
       "<style type=\"text/css\">\n",
       "</style>\n",
       "<table id=\"T_15373\" style='display:inline'>\n",
       "  <caption>Katz</caption>\n",
       "  <thead>\n",
       "    <tr>\n",
       "      <th id=\"T_15373_level0_col0\" class=\"col_heading level0 col0\" >katz_centrality</th>\n",
       "      <th id=\"T_15373_level0_col1\" class=\"col_heading level0 col1\" >vertex</th>\n",
       "    </tr>\n",
       "  </thead>\n",
       "  <tbody>\n",
       "    <tr>\n",
       "      <td id=\"T_15373_row0_col0\" class=\"data row0 col0\" >0.004415</td>\n",
       "      <td id=\"T_15373_row0_col1\" class=\"data row0 col1\" >CNNEE</td>\n",
       "    </tr>\n",
       "    <tr>\n",
       "      <td id=\"T_15373_row1_col0\" class=\"data row1 col0\" >0.004296</td>\n",
       "      <td id=\"T_15373_row1_col1\" class=\"data row1 col1\" >ActualidadRT</td>\n",
       "    </tr>\n",
       "    <tr>\n",
       "      <td id=\"T_15373_row2_col0\" class=\"data row2 col0\" >0.003800</td>\n",
       "      <td id=\"T_15373_row2_col1\" class=\"data row2 col1\" >AlertaNews24</td>\n",
       "    </tr>\n",
       "    <tr>\n",
       "      <td id=\"T_15373_row3_col0\" class=\"data row3 col0\" >0.003479</td>\n",
       "      <td id=\"T_15373_row3_col1\" class=\"data row3 col1\" >MaihenH</td>\n",
       "    </tr>\n",
       "    <tr>\n",
       "      <td id=\"T_15373_row4_col0\" class=\"data row4 col0\" >0.003287</td>\n",
       "      <td id=\"T_15373_row4_col1\" class=\"data row4 col1\" >dw_espanol</td>\n",
       "    </tr>\n",
       "  </tbody>\n",
       "</table>\n",
       "<style type=\"text/css\">\n",
       "</style>\n",
       "<table id=\"T_dbc19\" style='display:inline'>\n",
       "  <caption>PageRank</caption>\n",
       "  <thead>\n",
       "    <tr>\n",
       "      <th id=\"T_dbc19_level0_col0\" class=\"col_heading level0 col0\" >pagerank</th>\n",
       "      <th id=\"T_dbc19_level0_col1\" class=\"col_heading level0 col1\" >vertex</th>\n",
       "    </tr>\n",
       "  </thead>\n",
       "  <tbody>\n",
       "    <tr>\n",
       "      <td id=\"T_dbc19_row0_col0\" class=\"data row0 col0\" >0.011602</td>\n",
       "      <td id=\"T_dbc19_row0_col1\" class=\"data row0 col1\" >CNNEE</td>\n",
       "    </tr>\n",
       "    <tr>\n",
       "      <td id=\"T_dbc19_row1_col0\" class=\"data row1 col0\" >0.010421</td>\n",
       "      <td id=\"T_dbc19_row1_col1\" class=\"data row1 col1\" >ActualidadRT</td>\n",
       "    </tr>\n",
       "    <tr>\n",
       "      <td id=\"T_dbc19_row2_col0\" class=\"data row2 col0\" >0.008343</td>\n",
       "      <td id=\"T_dbc19_row2_col1\" class=\"data row2 col1\" >AlertaNews24</td>\n",
       "    </tr>\n",
       "    <tr>\n",
       "      <td id=\"T_dbc19_row3_col0\" class=\"data row3 col0\" >0.005778</td>\n",
       "      <td id=\"T_dbc19_row3_col1\" class=\"data row3 col1\" >MaihenH</td>\n",
       "    </tr>\n",
       "    <tr>\n",
       "      <td id=\"T_dbc19_row4_col0\" class=\"data row4 col0\" >0.004908</td>\n",
       "      <td id=\"T_dbc19_row4_col1\" class=\"data row4 col1\" >dw_espanol</td>\n",
       "    </tr>\n",
       "  </tbody>\n",
       "</table>\n",
       "<style type=\"text/css\">\n",
       "</style>\n",
       "<table id=\"T_a3fa6\" style='display:inline'>\n",
       "  <caption>Eigenvector</caption>\n",
       "  <thead>\n",
       "    <tr>\n",
       "      <th id=\"T_a3fa6_level0_col0\" class=\"col_heading level0 col0\" >eigenvector_centrality</th>\n",
       "      <th id=\"T_a3fa6_level0_col1\" class=\"col_heading level0 col1\" >vertex</th>\n",
       "    </tr>\n",
       "  </thead>\n",
       "  <tbody>\n",
       "    <tr>\n",
       "      <td id=\"T_a3fa6_row0_col0\" class=\"data row0 col0\" >0.382461</td>\n",
       "      <td id=\"T_a3fa6_row0_col1\" class=\"data row0 col1\" >CNNEE</td>\n",
       "    </tr>\n",
       "    <tr>\n",
       "      <td id=\"T_a3fa6_row1_col0\" class=\"data row1 col0\" >0.336205</td>\n",
       "      <td id=\"T_a3fa6_row1_col1\" class=\"data row1 col1\" >ActualidadRT</td>\n",
       "    </tr>\n",
       "    <tr>\n",
       "      <td id=\"T_a3fa6_row2_col0\" class=\"data row2 col0\" >0.173120</td>\n",
       "      <td id=\"T_a3fa6_row2_col1\" class=\"data row2 col1\" >AlertaNews24</td>\n",
       "    </tr>\n",
       "    <tr>\n",
       "      <td id=\"T_a3fa6_row3_col0\" class=\"data row3 col0\" >0.151726</td>\n",
       "      <td id=\"T_a3fa6_row3_col1\" class=\"data row3 col1\" >dw_espanol</td>\n",
       "    </tr>\n",
       "    <tr>\n",
       "      <td id=\"T_a3fa6_row4_col0\" class=\"data row4 col0\" >0.136776</td>\n",
       "      <td id=\"T_a3fa6_row4_col1\" class=\"data row4 col1\" >MaihenH</td>\n",
       "    </tr>\n",
       "  </tbody>\n",
       "</table>\n"
      ]
     },
     "metadata": {},
     "output_type": "display_data"
    }
   ],
   "source": [
    "g1 = extract_subgraph(1, sorted_community_counts, subgraph)\n",
    "print_centrality(compute_centrality(g1), 5)"
   ]
  },
  {
   "cell_type": "code",
   "execution_count": 35,
   "metadata": {},
   "outputs": [
    {
     "data": {
      "text/html": [
       "<style type=\"text/css\">\n",
       "</style>\n",
       "<table id=\"T_43ecd\" style='display:inline'>\n",
       "  <caption>Degree</caption>\n",
       "  <thead>\n",
       "    <tr>\n",
       "      <th id=\"T_43ecd_level0_col0\" class=\"col_heading level0 col0\" >degree_centrality</th>\n",
       "      <th id=\"T_43ecd_level0_col1\" class=\"col_heading level0 col1\" >vertex</th>\n",
       "    </tr>\n",
       "  </thead>\n",
       "  <tbody>\n",
       "    <tr>\n",
       "      <td id=\"T_43ecd_row0_col0\" class=\"data row0 col0\" >0.213755</td>\n",
       "      <td id=\"T_43ecd_row0_col1\" class=\"data row0 col1\" >vinistupido</td>\n",
       "    </tr>\n",
       "    <tr>\n",
       "      <td id=\"T_43ecd_row1_col0\" class=\"data row1 col0\" >0.162788</td>\n",
       "      <td id=\"T_43ecd_row1_col1\" class=\"data row1 col1\" >AlineTosin</td>\n",
       "    </tr>\n",
       "    <tr>\n",
       "      <td id=\"T_43ecd_row2_col0\" class=\"data row2 col0\" >0.058335</td>\n",
       "      <td id=\"T_43ecd_row2_col1\" class=\"data row2 col1\" >Byano_DJ</td>\n",
       "    </tr>\n",
       "    <tr>\n",
       "      <td id=\"T_43ecd_row3_col0\" class=\"data row3 col0\" >0.057332</td>\n",
       "      <td id=\"T_43ecd_row3_col1\" class=\"data row3 col1\" >celsolamounier</td>\n",
       "    </tr>\n",
       "    <tr>\n",
       "      <td id=\"T_43ecd_row4_col0\" class=\"data row4 col0\" >0.055432</td>\n",
       "      <td id=\"T_43ecd_row4_col1\" class=\"data row4 col1\" >lucasrohan</td>\n",
       "    </tr>\n",
       "  </tbody>\n",
       "</table>\n",
       "<style type=\"text/css\">\n",
       "</style>\n",
       "<table id=\"T_22180\" style='display:inline'>\n",
       "  <caption>Betweenness</caption>\n",
       "  <thead>\n",
       "    <tr>\n",
       "      <th id=\"T_22180_level0_col0\" class=\"col_heading level0 col0\" >betweenness_centrality</th>\n",
       "      <th id=\"T_22180_level0_col1\" class=\"col_heading level0 col1\" >vertex</th>\n",
       "    </tr>\n",
       "  </thead>\n",
       "  <tbody>\n",
       "    <tr>\n",
       "      <td id=\"T_22180_row0_col0\" class=\"data row0 col0\" >0.265578</td>\n",
       "      <td id=\"T_22180_row0_col1\" class=\"data row0 col1\" >vinistupido</td>\n",
       "    </tr>\n",
       "    <tr>\n",
       "      <td id=\"T_22180_row1_col0\" class=\"data row1 col0\" >0.213782</td>\n",
       "      <td id=\"T_22180_row1_col1\" class=\"data row1 col1\" >AlineTosin</td>\n",
       "    </tr>\n",
       "    <tr>\n",
       "      <td id=\"T_22180_row2_col0\" class=\"data row2 col0\" >0.089499</td>\n",
       "      <td id=\"T_22180_row2_col1\" class=\"data row2 col1\" >lucasrohan</td>\n",
       "    </tr>\n",
       "    <tr>\n",
       "      <td id=\"T_22180_row3_col0\" class=\"data row3 col0\" >0.060687</td>\n",
       "      <td id=\"T_22180_row3_col1\" class=\"data row3 col1\" >celsolamounier</td>\n",
       "    </tr>\n",
       "    <tr>\n",
       "      <td id=\"T_22180_row4_col0\" class=\"data row4 col0\" >0.059768</td>\n",
       "      <td id=\"T_22180_row4_col1\" class=\"data row4 col1\" >g1</td>\n",
       "    </tr>\n",
       "  </tbody>\n",
       "</table>\n",
       "<style type=\"text/css\">\n",
       "</style>\n",
       "<table id=\"T_7272c\" style='display:inline'>\n",
       "  <caption>Katz</caption>\n",
       "  <thead>\n",
       "    <tr>\n",
       "      <th id=\"T_7272c_level0_col0\" class=\"col_heading level0 col0\" >katz_centrality</th>\n",
       "      <th id=\"T_7272c_level0_col1\" class=\"col_heading level0 col1\" >vertex</th>\n",
       "    </tr>\n",
       "  </thead>\n",
       "  <tbody>\n",
       "    <tr>\n",
       "      <td id=\"T_7272c_row0_col0\" class=\"data row0 col0\" >0.004828</td>\n",
       "      <td id=\"T_7272c_row0_col1\" class=\"data row0 col1\" >vinistupido</td>\n",
       "    </tr>\n",
       "    <tr>\n",
       "      <td id=\"T_7272c_row1_col0\" class=\"data row1 col0\" >0.004252</td>\n",
       "      <td id=\"T_7272c_row1_col1\" class=\"data row1 col1\" >AlineTosin</td>\n",
       "    </tr>\n",
       "    <tr>\n",
       "      <td id=\"T_7272c_row2_col0\" class=\"data row2 col0\" >0.003073</td>\n",
       "      <td id=\"T_7272c_row2_col1\" class=\"data row2 col1\" >Byano_DJ</td>\n",
       "    </tr>\n",
       "    <tr>\n",
       "      <td id=\"T_7272c_row3_col0\" class=\"data row3 col0\" >0.003061</td>\n",
       "      <td id=\"T_7272c_row3_col1\" class=\"data row3 col1\" >celsolamounier</td>\n",
       "    </tr>\n",
       "    <tr>\n",
       "      <td id=\"T_7272c_row4_col0\" class=\"data row4 col0\" >0.003040</td>\n",
       "      <td id=\"T_7272c_row4_col1\" class=\"data row4 col1\" >lucasrohan</td>\n",
       "    </tr>\n",
       "  </tbody>\n",
       "</table>\n",
       "<style type=\"text/css\">\n",
       "</style>\n",
       "<table id=\"T_bbb12\" style='display:inline'>\n",
       "  <caption>PageRank</caption>\n",
       "  <thead>\n",
       "    <tr>\n",
       "      <th id=\"T_bbb12_level0_col0\" class=\"col_heading level0 col0\" >pagerank</th>\n",
       "      <th id=\"T_bbb12_level0_col1\" class=\"col_heading level0 col1\" >vertex</th>\n",
       "    </tr>\n",
       "  </thead>\n",
       "  <tbody>\n",
       "    <tr>\n",
       "      <td id=\"T_bbb12_row0_col0\" class=\"data row0 col0\" >0.043346</td>\n",
       "      <td id=\"T_bbb12_row0_col1\" class=\"data row0 col1\" >vinistupido</td>\n",
       "    </tr>\n",
       "    <tr>\n",
       "      <td id=\"T_bbb12_row1_col0\" class=\"data row1 col0\" >0.031361</td>\n",
       "      <td id=\"T_bbb12_row1_col1\" class=\"data row1 col1\" >AlineTosin</td>\n",
       "    </tr>\n",
       "    <tr>\n",
       "      <td id=\"T_bbb12_row2_col0\" class=\"data row2 col0\" >0.011662</td>\n",
       "      <td id=\"T_bbb12_row2_col1\" class=\"data row2 col1\" >Byano_DJ</td>\n",
       "    </tr>\n",
       "    <tr>\n",
       "      <td id=\"T_bbb12_row3_col0\" class=\"data row3 col0\" >0.011165</td>\n",
       "      <td id=\"T_bbb12_row3_col1\" class=\"data row3 col1\" >celsolamounier</td>\n",
       "    </tr>\n",
       "    <tr>\n",
       "      <td id=\"T_bbb12_row4_col0\" class=\"data row4 col0\" >0.009860</td>\n",
       "      <td id=\"T_bbb12_row4_col1\" class=\"data row4 col1\" >carloscrl144</td>\n",
       "    </tr>\n",
       "  </tbody>\n",
       "</table>\n",
       "<style type=\"text/css\">\n",
       "</style>\n",
       "<table id=\"T_21e79\" style='display:inline'>\n",
       "  <caption>Eigenvector</caption>\n",
       "  <thead>\n",
       "    <tr>\n",
       "      <th id=\"T_21e79_level0_col0\" class=\"col_heading level0 col0\" >eigenvector_centrality</th>\n",
       "      <th id=\"T_21e79_level0_col1\" class=\"col_heading level0 col1\" >vertex</th>\n",
       "    </tr>\n",
       "  </thead>\n",
       "  <tbody>\n",
       "    <tr>\n",
       "      <td id=\"T_21e79_row0_col0\" class=\"data row0 col0\" >0.659705</td>\n",
       "      <td id=\"T_21e79_row0_col1\" class=\"data row0 col1\" >vinistupido</td>\n",
       "    </tr>\n",
       "    <tr>\n",
       "      <td id=\"T_21e79_row1_col0\" class=\"data row1 col0\" >0.502406</td>\n",
       "      <td id=\"T_21e79_row1_col1\" class=\"data row1 col1\" >AlineTosin</td>\n",
       "    </tr>\n",
       "    <tr>\n",
       "      <td id=\"T_21e79_row2_col0\" class=\"data row2 col0\" >0.180037</td>\n",
       "      <td id=\"T_21e79_row2_col1\" class=\"data row2 col1\" >Byano_DJ</td>\n",
       "    </tr>\n",
       "    <tr>\n",
       "      <td id=\"T_21e79_row3_col0\" class=\"data row3 col0\" >0.176943</td>\n",
       "      <td id=\"T_21e79_row3_col1\" class=\"data row3 col1\" >celsolamounier</td>\n",
       "    </tr>\n",
       "    <tr>\n",
       "      <td id=\"T_21e79_row4_col0\" class=\"data row4 col0\" >0.171078</td>\n",
       "      <td id=\"T_21e79_row4_col1\" class=\"data row4 col1\" >lucasrohan</td>\n",
       "    </tr>\n",
       "  </tbody>\n",
       "</table>\n"
      ]
     },
     "metadata": {},
     "output_type": "display_data"
    }
   ],
   "source": [
    "g2 = extract_subgraph(2, sorted_community_counts, subgraph)\n",
    "print_centrality(compute_centrality(g2), 5)"
   ]
  },
  {
   "cell_type": "markdown",
   "metadata": {},
   "source": [
    "-----\n",
    "We could have gotten to community from the start"
   ]
  },
  {
   "cell_type": "code",
   "execution_count": 36,
   "metadata": {},
   "outputs": [
    {
     "name": "stdout",
     "output_type": "stream",
     "text": [
      "CPU times: user 724 ms, sys: 145 ms, total: 869 ms\n",
      "Wall time: 863 ms\n"
     ]
    }
   ],
   "source": [
    "%%time\n",
    "all_communities_df, mod_score = cugraph.louvain(subgraph)"
   ]
  },
  {
   "cell_type": "code",
   "execution_count": 37,
   "metadata": {},
   "outputs": [
    {
     "name": "stdout",
     "output_type": "stream",
     "text": [
      "Louvain found 1618 communities\n"
     ]
    }
   ],
   "source": [
    "# How man communities were found?\n",
    "all_part_ids = all_communities_df[\"partition\"].unique()\n",
    "print(\"Louvain found \" + str(len(all_part_ids)) + \" communities\")"
   ]
  },
  {
   "cell_type": "code",
   "execution_count": 38,
   "metadata": {},
   "outputs": [],
   "source": [
    "all_community_count = all_communities_df.groupby('partition').count().rename(columns={\"vertex\": \"count\"})"
   ]
  },
  {
   "cell_type": "code",
   "execution_count": 39,
   "metadata": {},
   "outputs": [
    {
     "data": {
      "text/html": [
       "<div>\n",
       "<style scoped>\n",
       "    .dataframe tbody tr th:only-of-type {\n",
       "        vertical-align: middle;\n",
       "    }\n",
       "\n",
       "    .dataframe tbody tr th {\n",
       "        vertical-align: top;\n",
       "    }\n",
       "\n",
       "    .dataframe thead th {\n",
       "        text-align: right;\n",
       "    }\n",
       "</style>\n",
       "<table border=\"1\" class=\"dataframe\">\n",
       "  <thead>\n",
       "    <tr style=\"text-align: right;\">\n",
       "      <th></th>\n",
       "      <th>count</th>\n",
       "    </tr>\n",
       "    <tr>\n",
       "      <th>partition</th>\n",
       "      <th></th>\n",
       "    </tr>\n",
       "  </thead>\n",
       "  <tbody>\n",
       "    <tr>\n",
       "      <th>1271</th>\n",
       "      <td>309076</td>\n",
       "    </tr>\n",
       "    <tr>\n",
       "      <th>1607</th>\n",
       "      <td>205208</td>\n",
       "    </tr>\n",
       "    <tr>\n",
       "      <th>503</th>\n",
       "      <td>171562</td>\n",
       "    </tr>\n",
       "    <tr>\n",
       "      <th>633</th>\n",
       "      <td>167905</td>\n",
       "    </tr>\n",
       "    <tr>\n",
       "      <th>1390</th>\n",
       "      <td>150457</td>\n",
       "    </tr>\n",
       "  </tbody>\n",
       "</table>\n",
       "</div>"
      ],
      "text/plain": [
       "            count\n",
       "partition        \n",
       "1271       309076\n",
       "1607       205208\n",
       "503        171562\n",
       "633        167905\n",
       "1390       150457"
      ]
     },
     "execution_count": 39,
     "metadata": {},
     "output_type": "execute_result"
    }
   ],
   "source": [
    "# what are the largest communities?\n",
    "all_sorted_community_counts = all_community_count.sort_values(by='count', ascending=False)\n",
    "all_sorted_community_counts.head(5)"
   ]
  },
  {
   "cell_type": "markdown",
   "metadata": {},
   "source": [
    "-----\n",
    "Looking for similarities"
   ]
  },
  {
   "cell_type": "code",
   "execution_count": 40,
   "metadata": {},
   "outputs": [],
   "source": [
    "Jaccard = cugraph.jaccard(g0)"
   ]
  },
  {
   "cell_type": "code",
   "execution_count": 41,
   "metadata": {},
   "outputs": [
    {
     "data": {
      "text/html": [
       "<div>\n",
       "<style scoped>\n",
       "    .dataframe tbody tr th:only-of-type {\n",
       "        vertical-align: middle;\n",
       "    }\n",
       "\n",
       "    .dataframe tbody tr th {\n",
       "        vertical-align: top;\n",
       "    }\n",
       "\n",
       "    .dataframe thead th {\n",
       "        text-align: right;\n",
       "    }\n",
       "</style>\n",
       "<table border=\"1\" class=\"dataframe\">\n",
       "  <thead>\n",
       "    <tr style=\"text-align: right;\">\n",
       "      <th></th>\n",
       "      <th>jaccard_coeff</th>\n",
       "      <th>source</th>\n",
       "      <th>destination</th>\n",
       "    </tr>\n",
       "  </thead>\n",
       "  <tbody>\n",
       "    <tr>\n",
       "      <th>37566</th>\n",
       "      <td>1.0</td>\n",
       "      <td>howroute</td>\n",
       "      <td>howroute</td>\n",
       "    </tr>\n",
       "    <tr>\n",
       "      <th>61005</th>\n",
       "      <td>1.0</td>\n",
       "      <td>IsChinar</td>\n",
       "      <td>IsChinar</td>\n",
       "    </tr>\n",
       "    <tr>\n",
       "      <th>65558</th>\n",
       "      <td>1.0</td>\n",
       "      <td>BNODesk</td>\n",
       "      <td>BNODesk</td>\n",
       "    </tr>\n",
       "    <tr>\n",
       "      <th>76222</th>\n",
       "      <td>1.0</td>\n",
       "      <td>jenniferatntd</td>\n",
       "      <td>jenniferatntd</td>\n",
       "    </tr>\n",
       "    <tr>\n",
       "      <th>96239</th>\n",
       "      <td>1.0</td>\n",
       "      <td>DarrenPlymouth</td>\n",
       "      <td>DarrenPlymouth</td>\n",
       "    </tr>\n",
       "  </tbody>\n",
       "</table>\n",
       "</div>"
      ],
      "text/plain": [
       "       jaccard_coeff          source     destination\n",
       "37566            1.0        howroute        howroute\n",
       "61005            1.0        IsChinar        IsChinar\n",
       "65558            1.0         BNODesk         BNODesk\n",
       "76222            1.0   jenniferatntd   jenniferatntd\n",
       "96239            1.0  DarrenPlymouth  DarrenPlymouth"
      ]
     },
     "execution_count": 41,
     "metadata": {},
     "output_type": "execute_result"
    }
   ],
   "source": [
    "Jaccard.sort_values(by='jaccard_coeff', ascending=False).head()"
   ]
  },
  {
   "cell_type": "markdown",
   "metadata": {},
   "source": [
    "Lots of users referencing themselves"
   ]
  },
  {
   "cell_type": "code",
   "execution_count": 42,
   "metadata": {},
   "outputs": [],
   "source": [
    "# Drop self links  (should have done this at the graph level)\n",
    "J2 = Jaccard[Jaccard['source'] != Jaccard['destination']]"
   ]
  },
  {
   "cell_type": "code",
   "execution_count": 43,
   "metadata": {},
   "outputs": [
    {
     "data": {
      "text/html": [
       "<div>\n",
       "<style scoped>\n",
       "    .dataframe tbody tr th:only-of-type {\n",
       "        vertical-align: middle;\n",
       "    }\n",
       "\n",
       "    .dataframe tbody tr th {\n",
       "        vertical-align: top;\n",
       "    }\n",
       "\n",
       "    .dataframe thead th {\n",
       "        text-align: right;\n",
       "    }\n",
       "</style>\n",
       "<table border=\"1\" class=\"dataframe\">\n",
       "  <thead>\n",
       "    <tr style=\"text-align: right;\">\n",
       "      <th></th>\n",
       "      <th>jaccard_coeff</th>\n",
       "      <th>source</th>\n",
       "      <th>destination</th>\n",
       "    </tr>\n",
       "  </thead>\n",
       "  <tbody>\n",
       "    <tr>\n",
       "      <th>1009425</th>\n",
       "      <td>1.000000</td>\n",
       "      <td>GuyGuidoFawkes1</td>\n",
       "      <td>PutinRF_English</td>\n",
       "    </tr>\n",
       "    <tr>\n",
       "      <th>1011294</th>\n",
       "      <td>1.000000</td>\n",
       "      <td>PutinRF_English</td>\n",
       "      <td>GuyGuidoFawkes1</td>\n",
       "    </tr>\n",
       "    <tr>\n",
       "      <th>1183188</th>\n",
       "      <td>1.000000</td>\n",
       "      <td>800dbcloud</td>\n",
       "      <td>1NKDR0P</td>\n",
       "    </tr>\n",
       "    <tr>\n",
       "      <th>1185214</th>\n",
       "      <td>1.000000</td>\n",
       "      <td>1NKDR0P</td>\n",
       "      <td>800dbcloud</td>\n",
       "    </tr>\n",
       "    <tr>\n",
       "      <th>1298775</th>\n",
       "      <td>1.000000</td>\n",
       "      <td>cyberdefensemag</td>\n",
       "      <td>miliefsky</td>\n",
       "    </tr>\n",
       "    <tr>\n",
       "      <th>1316297</th>\n",
       "      <td>1.000000</td>\n",
       "      <td>miliefsky</td>\n",
       "      <td>cyberdefensemag</td>\n",
       "    </tr>\n",
       "    <tr>\n",
       "      <th>697283</th>\n",
       "      <td>0.918919</td>\n",
       "      <td>TresaBridges</td>\n",
       "      <td>lazyishhound</td>\n",
       "    </tr>\n",
       "    <tr>\n",
       "      <th>711856</th>\n",
       "      <td>0.918919</td>\n",
       "      <td>lazyishhound</td>\n",
       "      <td>TresaBridges</td>\n",
       "    </tr>\n",
       "    <tr>\n",
       "      <th>1181191</th>\n",
       "      <td>0.909091</td>\n",
       "      <td>REAL_DARGI</td>\n",
       "      <td>BLACKON13649707</td>\n",
       "    </tr>\n",
       "    <tr>\n",
       "      <th>1214883</th>\n",
       "      <td>0.909091</td>\n",
       "      <td>BLACKON13649707</td>\n",
       "      <td>REAL_DARGI</td>\n",
       "    </tr>\n",
       "  </tbody>\n",
       "</table>\n",
       "</div>"
      ],
      "text/plain": [
       "         jaccard_coeff           source      destination\n",
       "1009425       1.000000  GuyGuidoFawkes1  PutinRF_English\n",
       "1011294       1.000000  PutinRF_English  GuyGuidoFawkes1\n",
       "1183188       1.000000       800dbcloud          1NKDR0P\n",
       "1185214       1.000000          1NKDR0P       800dbcloud\n",
       "1298775       1.000000  cyberdefensemag        miliefsky\n",
       "1316297       1.000000        miliefsky  cyberdefensemag\n",
       "697283        0.918919     TresaBridges     lazyishhound\n",
       "711856        0.918919     lazyishhound     TresaBridges\n",
       "1181191       0.909091       REAL_DARGI  BLACKON13649707\n",
       "1214883       0.909091  BLACKON13649707       REAL_DARGI"
      ]
     },
     "execution_count": 43,
     "metadata": {},
     "output_type": "execute_result"
    }
   ],
   "source": [
    "J2.sort_values(by='jaccard_coeff', ascending=False).head(10)"
   ]
  },
  {
   "cell_type": "code",
   "execution_count": 44,
   "metadata": {},
   "outputs": [
    {
     "data": {
      "text/html": [
       "<div>\n",
       "<style scoped>\n",
       "    .dataframe tbody tr th:only-of-type {\n",
       "        vertical-align: middle;\n",
       "    }\n",
       "\n",
       "    .dataframe tbody tr th {\n",
       "        vertical-align: top;\n",
       "    }\n",
       "\n",
       "    .dataframe thead th {\n",
       "        text-align: right;\n",
       "    }\n",
       "</style>\n",
       "<table border=\"1\" class=\"dataframe\">\n",
       "  <thead>\n",
       "    <tr style=\"text-align: right;\">\n",
       "      <th></th>\n",
       "      <th>jaccard_coeff</th>\n",
       "      <th>source</th>\n",
       "      <th>destination</th>\n",
       "    </tr>\n",
       "  </thead>\n",
       "  <tbody>\n",
       "    <tr>\n",
       "      <th>5643</th>\n",
       "      <td>0.051783</td>\n",
       "      <td>realDonaldTrump</td>\n",
       "      <td>PressSec</td>\n",
       "    </tr>\n",
       "    <tr>\n",
       "      <th>5635</th>\n",
       "      <td>0.042745</td>\n",
       "      <td>realDonaldTrump</td>\n",
       "      <td>POTUS</td>\n",
       "    </tr>\n",
       "    <tr>\n",
       "      <th>5636</th>\n",
       "      <td>0.040349</td>\n",
       "      <td>realDonaldTrump</td>\n",
       "      <td>BrianKolfage</td>\n",
       "    </tr>\n",
       "    <tr>\n",
       "      <th>5637</th>\n",
       "      <td>0.030850</td>\n",
       "      <td>realDonaldTrump</td>\n",
       "      <td>SecAzar</td>\n",
       "    </tr>\n",
       "    <tr>\n",
       "      <th>6065</th>\n",
       "      <td>0.024799</td>\n",
       "      <td>realDonaldTrump</td>\n",
       "      <td>BrianKarem</td>\n",
       "    </tr>\n",
       "  </tbody>\n",
       "</table>\n",
       "</div>"
      ],
      "text/plain": [
       "      jaccard_coeff           source   destination\n",
       "5643       0.051783  realDonaldTrump      PressSec\n",
       "5635       0.042745  realDonaldTrump         POTUS\n",
       "5636       0.040349  realDonaldTrump  BrianKolfage\n",
       "5637       0.030850  realDonaldTrump       SecAzar\n",
       "6065       0.024799  realDonaldTrump    BrianKarem"
      ]
     },
     "execution_count": 44,
     "metadata": {},
     "output_type": "execute_result"
    }
   ],
   "source": [
    "Jaccard[Jaccard['source'] == 'realDonaldTrump'].sort_values(by='jaccard_coeff', ascending=False).head()"
   ]
  },
  {
   "cell_type": "code",
   "execution_count": 45,
   "metadata": {},
   "outputs": [],
   "source": [
    "Overlap = cugraph.overlap(g0)"
   ]
  },
  {
   "cell_type": "code",
   "execution_count": 46,
   "metadata": {},
   "outputs": [
    {
     "data": {
      "text/html": [
       "<div>\n",
       "<style scoped>\n",
       "    .dataframe tbody tr th:only-of-type {\n",
       "        vertical-align: middle;\n",
       "    }\n",
       "\n",
       "    .dataframe tbody tr th {\n",
       "        vertical-align: top;\n",
       "    }\n",
       "\n",
       "    .dataframe thead th {\n",
       "        text-align: right;\n",
       "    }\n",
       "</style>\n",
       "<table border=\"1\" class=\"dataframe\">\n",
       "  <thead>\n",
       "    <tr style=\"text-align: right;\">\n",
       "      <th></th>\n",
       "      <th>overlap_coeff</th>\n",
       "      <th>source</th>\n",
       "      <th>destination</th>\n",
       "    </tr>\n",
       "  </thead>\n",
       "  <tbody>\n",
       "    <tr>\n",
       "      <th>7169</th>\n",
       "      <td>0.996350</td>\n",
       "      <td>realDonaldTrump</td>\n",
       "      <td>BrianKarem</td>\n",
       "    </tr>\n",
       "    <tr>\n",
       "      <th>6407</th>\n",
       "      <td>0.983333</td>\n",
       "      <td>realDonaldTrump</td>\n",
       "      <td>EbneHava</td>\n",
       "    </tr>\n",
       "    <tr>\n",
       "      <th>9498</th>\n",
       "      <td>0.980000</td>\n",
       "      <td>realDonaldTrump</td>\n",
       "      <td>marc_lotter</td>\n",
       "    </tr>\n",
       "    <tr>\n",
       "      <th>9583</th>\n",
       "      <td>0.958333</td>\n",
       "      <td>realDonaldTrump</td>\n",
       "      <td>BruhResign</td>\n",
       "    </tr>\n",
       "    <tr>\n",
       "      <th>27105</th>\n",
       "      <td>0.952381</td>\n",
       "      <td>realDonaldTrump</td>\n",
       "      <td>SteveScalise</td>\n",
       "    </tr>\n",
       "  </tbody>\n",
       "</table>\n",
       "</div>"
      ],
      "text/plain": [
       "       overlap_coeff           source   destination\n",
       "7169        0.996350  realDonaldTrump    BrianKarem\n",
       "6407        0.983333  realDonaldTrump      EbneHava\n",
       "9498        0.980000  realDonaldTrump   marc_lotter\n",
       "9583        0.958333  realDonaldTrump    BruhResign\n",
       "27105       0.952381  realDonaldTrump  SteveScalise"
      ]
     },
     "execution_count": 46,
     "metadata": {},
     "output_type": "execute_result"
    }
   ],
   "source": [
    "Overlap[Overlap['source'] == 'realDonaldTrump'].sort_values(by='overlap_coeff', ascending=False).head()"
   ]
  },
  {
   "cell_type": "code",
   "execution_count": null,
   "metadata": {},
   "outputs": [],
   "source": []
  }
 ],
 "metadata": {
  "kernelspec": {
   "display_name": "cugraph_dev",
   "language": "python",
   "name": "cugraph_dev"
  },
  "language_info": {
   "codemirror_mode": {
    "name": "ipython",
    "version": 3
   },
   "file_extension": ".py",
   "mimetype": "text/x-python",
   "name": "python",
   "nbconvert_exporter": "python",
   "pygments_lexer": "ipython3",
   "version": "3.8.13"
  }
 },
 "nbformat": 4,
 "nbformat_minor": 4
}
